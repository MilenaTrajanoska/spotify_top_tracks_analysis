{
 "cells": [
  {
   "cell_type": "markdown",
   "metadata": {},
   "source": [
    "<h1>Collecting and Preprocessing Data</h1>"
   ]
  },
  {
   "cell_type": "markdown",
   "metadata": {
    "id": "jI399Vvy-nVA"
   },
   "source": [
    "<h4> <li>This notebook is concerned with gathering the data for the data mining task. Part of the data is from a data set on Kaggle. The other is fetched from Spotify's Web Api and preprocess to fit the format from the main dataset. <br> </h4>"
   ]
  },
  {
   "cell_type": "code",
   "execution_count": 6,
   "metadata": {
    "id": "hcoqhjw0U90w"
   },
   "outputs": [],
   "source": [
    "import pandas as pd\n",
    "import numpy as np\n",
    "import matplotlib.pyplot as plt\n",
    "import seaborn as sns\n",
    "import plotly.express as px\n",
    "import spotipy\n",
    "from spotipy.oauth2 import SpotifyClientCredentials\n",
    "import missingno as msno\n",
    "import scipy\n",
    "import warnings"
   ]
  },
  {
   "cell_type": "code",
   "execution_count": 7,
   "metadata": {
    "id": "l7TIVqGHPItm"
   },
   "outputs": [],
   "source": [
    "warnings.simplefilter('always', category=UserWarning)"
   ]
  },
  {
   "cell_type": "code",
   "execution_count": 8,
   "metadata": {
    "colab": {
     "base_uri": "https://localhost:8080/",
     "height": 195
    },
    "executionInfo": {
     "elapsed": 638,
     "status": "ok",
     "timestamp": 1616609282664,
     "user": {
      "displayName": "Milena Trajanoska",
      "photoUrl": "https://lh3.googleusercontent.com/a-/AOh14GhmjxJh5lx27HMQZEqmVH840jcXj9kkxI0c539Bpw=s64",
      "userId": "04043802626059007351"
     },
     "user_tz": -60
    },
    "id": "v1swn9mvWZD3",
    "outputId": "236138a9-e11f-4982-cb3c-21ce98c3fa2d"
   },
   "outputs": [
    {
     "data": {
      "text/html": [
       "<div>\n",
       "<style scoped>\n",
       "    .dataframe tbody tr th:only-of-type {\n",
       "        vertical-align: middle;\n",
       "    }\n",
       "\n",
       "    .dataframe tbody tr th {\n",
       "        vertical-align: top;\n",
       "    }\n",
       "\n",
       "    .dataframe thead th {\n",
       "        text-align: right;\n",
       "    }\n",
       "</style>\n",
       "<table border=\"1\" class=\"dataframe\">\n",
       "  <thead>\n",
       "    <tr style=\"text-align: right;\">\n",
       "      <th></th>\n",
       "      <th>title</th>\n",
       "      <th>artist</th>\n",
       "      <th>top genre</th>\n",
       "      <th>year</th>\n",
       "      <th>bpm</th>\n",
       "      <th>nrgy</th>\n",
       "      <th>dnce</th>\n",
       "      <th>dB</th>\n",
       "      <th>live</th>\n",
       "      <th>val</th>\n",
       "      <th>dur</th>\n",
       "      <th>acous</th>\n",
       "      <th>spch</th>\n",
       "      <th>pop</th>\n",
       "    </tr>\n",
       "  </thead>\n",
       "  <tbody>\n",
       "    <tr>\n",
       "      <th>0</th>\n",
       "      <td>Hey, Soul Sister</td>\n",
       "      <td>Train</td>\n",
       "      <td>neo mellow</td>\n",
       "      <td>2010</td>\n",
       "      <td>97</td>\n",
       "      <td>89</td>\n",
       "      <td>67</td>\n",
       "      <td>-4</td>\n",
       "      <td>8</td>\n",
       "      <td>80</td>\n",
       "      <td>217</td>\n",
       "      <td>19</td>\n",
       "      <td>4</td>\n",
       "      <td>83</td>\n",
       "    </tr>\n",
       "    <tr>\n",
       "      <th>1</th>\n",
       "      <td>Love The Way You Lie</td>\n",
       "      <td>Eminem</td>\n",
       "      <td>detroit hip hop</td>\n",
       "      <td>2010</td>\n",
       "      <td>87</td>\n",
       "      <td>93</td>\n",
       "      <td>75</td>\n",
       "      <td>-5</td>\n",
       "      <td>52</td>\n",
       "      <td>64</td>\n",
       "      <td>263</td>\n",
       "      <td>24</td>\n",
       "      <td>23</td>\n",
       "      <td>82</td>\n",
       "    </tr>\n",
       "    <tr>\n",
       "      <th>2</th>\n",
       "      <td>TiK ToK</td>\n",
       "      <td>Kesha</td>\n",
       "      <td>dance pop</td>\n",
       "      <td>2010</td>\n",
       "      <td>120</td>\n",
       "      <td>84</td>\n",
       "      <td>76</td>\n",
       "      <td>-3</td>\n",
       "      <td>29</td>\n",
       "      <td>71</td>\n",
       "      <td>200</td>\n",
       "      <td>10</td>\n",
       "      <td>14</td>\n",
       "      <td>80</td>\n",
       "    </tr>\n",
       "    <tr>\n",
       "      <th>3</th>\n",
       "      <td>Bad Romance</td>\n",
       "      <td>Lady Gaga</td>\n",
       "      <td>dance pop</td>\n",
       "      <td>2010</td>\n",
       "      <td>119</td>\n",
       "      <td>92</td>\n",
       "      <td>70</td>\n",
       "      <td>-4</td>\n",
       "      <td>8</td>\n",
       "      <td>71</td>\n",
       "      <td>295</td>\n",
       "      <td>0</td>\n",
       "      <td>4</td>\n",
       "      <td>79</td>\n",
       "    </tr>\n",
       "    <tr>\n",
       "      <th>4</th>\n",
       "      <td>Just the Way You Are</td>\n",
       "      <td>Bruno Mars</td>\n",
       "      <td>pop</td>\n",
       "      <td>2010</td>\n",
       "      <td>109</td>\n",
       "      <td>84</td>\n",
       "      <td>64</td>\n",
       "      <td>-5</td>\n",
       "      <td>9</td>\n",
       "      <td>43</td>\n",
       "      <td>221</td>\n",
       "      <td>2</td>\n",
       "      <td>4</td>\n",
       "      <td>78</td>\n",
       "    </tr>\n",
       "  </tbody>\n",
       "</table>\n",
       "</div>"
      ],
      "text/plain": [
       "                  title      artist        top genre  year  bpm  nrgy  dnce  \\\n",
       "0      Hey, Soul Sister       Train       neo mellow  2010   97    89    67   \n",
       "1  Love The Way You Lie      Eminem  detroit hip hop  2010   87    93    75   \n",
       "2               TiK ToK       Kesha        dance pop  2010  120    84    76   \n",
       "3           Bad Romance   Lady Gaga        dance pop  2010  119    92    70   \n",
       "4  Just the Way You Are  Bruno Mars              pop  2010  109    84    64   \n",
       "\n",
       "   dB  live  val  dur  acous  spch  pop  \n",
       "0  -4     8   80  217     19     4   83  \n",
       "1  -5    52   64  263     24    23   82  \n",
       "2  -3    29   71  200     10    14   80  \n",
       "3  -4     8   71  295      0     4   79  \n",
       "4  -5     9   43  221      2     4   78  "
      ]
     },
     "execution_count": 8,
     "metadata": {},
     "output_type": "execute_result"
    }
   ],
   "source": [
    "tracks_data = pd.read_csv('../data/top10s.csv')\n",
    "tracks_data.head()"
   ]
  },
  {
   "cell_type": "markdown",
   "metadata": {
    "id": "ogzZ_FrHYgGi"
   },
   "source": [
    "<h3>Description of Data Set</h3>"
   ]
  },
  {
   "cell_type": "markdown",
   "metadata": {
    "id": "Iibqp17JYljy"
   },
   "source": [
    "<p>This data set contains data about Spotify's top tracks for years from 2010 to 2019. <br/> The data set was downloaded from Kaggle: <a href=\"https://www.kaggle.com/leonardopena/top-spotify-songs-from-20102019-by-year\"><font color=\"gree\">Top Spotify songs from 2010-2019 - BY YEAR</font></a><br> In order to be more up to date, I am going to collect data for the top tracks of 2020 using Spotify's Web Api. Additionally, I am going to try and enrich the data set with some features for the artists. </p>"
   ]
  },
  {
   "cell_type": "markdown",
   "metadata": {
    "id": "MoZ7EhZWvjhF"
   },
   "source": [
    "<h1>1. Fetching Data and Preparing the Data Set</h1>"
   ]
  },
  {
   "cell_type": "markdown",
   "metadata": {
    "id": "KBX0a-78vn1C"
   },
   "source": [
    "<p>Installing spotify python library for easier manipulation with Spotify's Web Api</p>"
   ]
  },
  {
   "cell_type": "markdown",
   "metadata": {
    "id": "qcqt6bCTvwBj"
   },
   "source": [
    "<p>Setting up developer credentials for api use</p>"
   ]
  },
  {
   "cell_type": "code",
   "execution_count": null,
   "metadata": {
    "id": "8Crh2wmZbDKJ"
   },
   "outputs": [],
   "source": [
    "def set_up_spotify_credentials():\n",
    "  cid = '88a51d84a8b44fe88e8adcb2e4728a07'\n",
    "  secret = '00e8860dd9e547978fe714b97c31d178'\n",
    "  client_credentials_manager = SpotifyClientCredentials(client_id=cid, client_secret=secret)\n",
    "  sp = spotipy.Spotify(client_credentials_manager=client_credentials_manager)\n",
    "  return sp"
   ]
  },
  {
   "cell_type": "markdown",
   "metadata": {
    "id": "GzQ8X3gav2rI"
   },
   "source": [
    "<p>Extracting songs from top 50 playlist generated by Spotify for 2020.<br>\n",
    "You can find the playlist <a href=\"https://open.spotify.com/playlist/37i9dQZF1DX7Jl5KP2eZaS\"><font color='gree'>here</a></font></p>"
   ]
  },
  {
   "cell_type": "code",
   "execution_count": null,
   "metadata": {
    "id": "T4swbSBE9tZQ"
   },
   "outputs": [],
   "source": [
    "def extract_track_data(pid):\n",
    "  artist_name = []\n",
    "  artist_id = []\n",
    "  track_name = []\n",
    "  popularity = []\n",
    "  track_id = []\n",
    "  duration = []\n",
    "  sp = set_up_spotify_credentials()\n",
    "  track_results = sp.playlist(playlist_id=pid)\n",
    "  for i, tr in enumerate(track_results['tracks']['items']):\n",
    "    artist_name.append(tr['track']['artists'][0]['name'])\n",
    "    artist_id.append(tr['track']['artists'][0]['id'])\n",
    "    track_name.append(tr['track']['name'])\n",
    "    track_id.append(tr['track']['id'])\n",
    "    popularity.append(tr['track']['popularity'])\n",
    "    duration.append(tr['track']['duration_ms']/1000)\n",
    "  return artist_name, artist_id, track_name, popularity, track_id, duration"
   ]
  },
  {
   "cell_type": "code",
   "execution_count": null,
   "metadata": {
    "id": "Ui9_dYuDbksF"
   },
   "outputs": [],
   "source": [
    "artist_name, artist_id, track_name, popularity, track_id, duration = extract_track_data('37i9dQZF1DX7Jl5KP2eZaS')"
   ]
  },
  {
   "cell_type": "markdown",
   "metadata": {
    "id": "O1p2USx_gghp"
   },
   "source": [
    "<p>Now we have the ids of the top 50 tracks of 2020 and the artists' ids. <br>\n",
    "We can now extract the audio features for each track and data about the artists using the provided ids, again using Spotify's Api.</p>"
   ]
  },
  {
   "cell_type": "code",
   "execution_count": null,
   "metadata": {
    "id": "Qf3nnOmIgrBd"
   },
   "outputs": [],
   "source": [
    "tracks = []\n",
    "for id in track_id:\n",
    "  tracks = sp.audio_features(tracks=track_id)"
   ]
  },
  {
   "cell_type": "code",
   "execution_count": null,
   "metadata": {
    "id": "ACEFzkXqhJ31"
   },
   "outputs": [],
   "source": [
    "artists = []\n",
    "artists = sp.artists(artist_id)"
   ]
  },
  {
   "cell_type": "markdown",
   "metadata": {
    "id": "s2T_rW7vwjSE"
   },
   "source": [
    "<p>Now I am going to create data frames for easier manipulation. <br>\n",
    "I am going to rename the features to make them compatible in the new and old dataset and finaly concatenate the two datasets into one.</p>"
   ]
  },
  {
   "cell_type": "code",
   "execution_count": null,
   "metadata": {
    "id": "i6nnAwn2hyUB"
   },
   "outputs": [],
   "source": [
    "artists_2020 = pd.DataFrame(artists['artists'])\n",
    "artists_2020_features = artists_2020[['followers', 'genres', 'name', 'popularity']]"
   ]
  },
  {
   "cell_type": "code",
   "execution_count": null,
   "metadata": {
    "id": "g-OZq7hclXVI"
   },
   "outputs": [],
   "source": [
    "rename_columns_mapper = {'bpm': 'tempo', 'nrgy' : 'energy', \n",
    "                         'dnce': 'danceability', 'dB': 'loudness',\n",
    "                         'live' : 'liveness', 'val' : 'valence', \n",
    "                         'dur': 'duration', 'acous': 'acousticness',\n",
    "                         'spch': 'speechiness', 'pop': 'track_popularity'}"
   ]
  },
  {
   "cell_type": "code",
   "execution_count": null,
   "metadata": {
    "id": "oL5i0hoVmve4"
   },
   "outputs": [],
   "source": [
    "track_data = tracks_data.rename(columns=rename_columns_mapper)"
   ]
  },
  {
   "cell_type": "code",
   "execution_count": null,
   "metadata": {
    "id": "3Dg-ABRWm8AW"
   },
   "outputs": [],
   "source": [
    "track_features = list(rename_columns_mapper.values())"
   ]
  },
  {
   "cell_type": "code",
   "execution_count": null,
   "metadata": {
    "id": "Kk-3_S3UnFZF"
   },
   "outputs": [],
   "source": [
    "track_features[6] = 'duration_ms'"
   ]
  },
  {
   "cell_type": "code",
   "execution_count": null,
   "metadata": {
    "id": "UUzfw_WvnVI0"
   },
   "outputs": [],
   "source": [
    "tracks_2020_only_features = tracks_2020[track_features[:-1]]"
   ]
  },
  {
   "cell_type": "code",
   "execution_count": null,
   "metadata": {
    "id": "MSfNZhvyno36"
   },
   "outputs": [],
   "source": [
    "tracks_2020_only_features.insert(0, 'title', track_name)"
   ]
  },
  {
   "cell_type": "code",
   "execution_count": null,
   "metadata": {
    "id": "ZBWKXKqlnwH6"
   },
   "outputs": [],
   "source": [
    "tracks_2020_only_features.insert(1, 'year', 2020)"
   ]
  },
  {
   "cell_type": "code",
   "execution_count": null,
   "metadata": {
    "id": "YMUp-vEan62K"
   },
   "outputs": [],
   "source": [
    "tracks_2020_only_features.insert(1, 'artist', artist_name)"
   ]
  },
  {
   "cell_type": "code",
   "execution_count": null,
   "metadata": {
    "colab": {
     "base_uri": "https://localhost:8080/"
    },
    "executionInfo": {
     "elapsed": 607,
     "status": "ok",
     "timestamp": 1616612884160,
     "user": {
      "displayName": "Milena Trajanoska",
      "photoUrl": "https://lh3.googleusercontent.com/a-/AOh14GhmjxJh5lx27HMQZEqmVH840jcXj9kkxI0c539Bpw=s64",
      "userId": "04043802626059007351"
     },
     "user_tz": -60
    },
    "id": "H-AzapSKoLIW",
    "outputId": "4800cdd1-26b9-4c1a-dbe9-edba4bb6c822"
   },
   "outputs": [
    {
     "name": "stderr",
     "output_type": "stream",
     "text": [
      "/usr/local/lib/python3.7/dist-packages/ipykernel_launcher.py:1: SettingWithCopyWarning:\n",
      "\n",
      "\n",
      "A value is trying to be set on a copy of a slice from a DataFrame.\n",
      "Try using .loc[row_indexer,col_indexer] = value instead\n",
      "\n",
      "See the caveats in the documentation: https://pandas.pydata.org/pandas-docs/stable/user_guide/indexing.html#returning-a-view-versus-a-copy\n",
      "\n"
     ]
    }
   ],
   "source": [
    "artists_2020_features['genres'] = [artists_2020_features.iloc[i]['genres'][0] for i in range(len(artists_2020_features))]"
   ]
  },
  {
   "cell_type": "code",
   "execution_count": null,
   "metadata": {
    "id": "q9gjbYixoDNO"
   },
   "outputs": [],
   "source": [
    "tracks_2020_only_features.insert(2, 'top genre', artists_2020_features['genres'])"
   ]
  },
  {
   "cell_type": "code",
   "execution_count": null,
   "metadata": {
    "colab": {
     "base_uri": "https://localhost:8080/"
    },
    "executionInfo": {
     "elapsed": 602,
     "status": "ok",
     "timestamp": 1616613036216,
     "user": {
      "displayName": "Milena Trajanoska",
      "photoUrl": "https://lh3.googleusercontent.com/a-/AOh14GhmjxJh5lx27HMQZEqmVH840jcXj9kkxI0c539Bpw=s64",
      "userId": "04043802626059007351"
     },
     "user_tz": -60
    },
    "id": "C1qLzJWJo3rr",
    "outputId": "20b2fe12-41ed-4448-d9de-f5a9ce0f56dd"
   },
   "outputs": [
    {
     "name": "stderr",
     "output_type": "stream",
     "text": [
      "/usr/local/lib/python3.7/dist-packages/ipykernel_launcher.py:1: SettingWithCopyWarning:\n",
      "\n",
      "\n",
      "A value is trying to be set on a copy of a slice from a DataFrame.\n",
      "Try using .loc[row_indexer,col_indexer] = value instead\n",
      "\n",
      "See the caveats in the documentation: https://pandas.pydata.org/pandas-docs/stable/user_guide/indexing.html#returning-a-view-versus-a-copy\n",
      "\n"
     ]
    }
   ],
   "source": [
    "tracks_2020_only_features['track_popularity'] = popularity"
   ]
  },
  {
   "cell_type": "code",
   "execution_count": null,
   "metadata": {
    "colab": {
     "base_uri": "https://localhost:8080/"
    },
    "executionInfo": {
     "elapsed": 605,
     "status": "ok",
     "timestamp": 1616613177441,
     "user": {
      "displayName": "Milena Trajanoska",
      "photoUrl": "https://lh3.googleusercontent.com/a-/AOh14GhmjxJh5lx27HMQZEqmVH840jcXj9kkxI0c539Bpw=s64",
      "userId": "04043802626059007351"
     },
     "user_tz": -60
    },
    "id": "qSM592y2pzIa",
    "outputId": "4b3f56d4-2e0d-4958-a9f8-b441e69a6b11"
   },
   "outputs": [
    {
     "name": "stderr",
     "output_type": "stream",
     "text": [
      "/usr/local/lib/python3.7/dist-packages/ipykernel_launcher.py:1: SettingWithCopyWarning:\n",
      "\n",
      "\n",
      "A value is trying to be set on a copy of a slice from a DataFrame.\n",
      "Try using .loc[row_indexer,col_indexer] = value instead\n",
      "\n",
      "See the caveats in the documentation: https://pandas.pydata.org/pandas-docs/stable/user_guide/indexing.html#returning-a-view-versus-a-copy\n",
      "\n"
     ]
    }
   ],
   "source": [
    "tracks_2020_only_features['duration_ms'] = tracks_2020_only_features['duration_ms'] / 1000"
   ]
  },
  {
   "cell_type": "code",
   "execution_count": null,
   "metadata": {
    "id": "lDstJPIyp39p"
   },
   "outputs": [],
   "source": [
    "tracks_2020_only_features = tracks_2020_only_features.rename(columns={'duration_ms' : 'duration'})"
   ]
  },
  {
   "cell_type": "code",
   "execution_count": null,
   "metadata": {
    "id": "dS6-pzmrpjKA"
   },
   "outputs": [],
   "source": [
    "full_tracks_data = pd.concat([track_data, tracks_2020_only_features])"
   ]
  },
  {
   "cell_type": "code",
   "execution_count": null,
   "metadata": {
    "id": "_JCIDtqQqFlW"
   },
   "outputs": [],
   "source": [
    "full_tracks_data.to_csv('../data/tracks_including_2020.csv', index=False)"
   ]
  },
  {
   "cell_type": "code",
   "execution_count": null,
   "metadata": {
    "colab": {
     "base_uri": "https://localhost:8080/",
     "height": 350
    },
    "executionInfo": {
     "elapsed": 645,
     "status": "ok",
     "timestamp": 1616613312308,
     "user": {
      "displayName": "Milena Trajanoska",
      "photoUrl": "https://lh3.googleusercontent.com/a-/AOh14GhmjxJh5lx27HMQZEqmVH840jcXj9kkxI0c539Bpw=s64",
      "userId": "04043802626059007351"
     },
     "user_tz": -60
    },
    "id": "KNg5gtA7qUCp",
    "outputId": "5733f7fa-912d-4954-f2f7-688b53612261"
   },
   "outputs": [
    {
     "data": {
      "text/html": [
       "<div>\n",
       "<style scoped>\n",
       "    .dataframe tbody tr th:only-of-type {\n",
       "        vertical-align: middle;\n",
       "    }\n",
       "\n",
       "    .dataframe tbody tr th {\n",
       "        vertical-align: top;\n",
       "    }\n",
       "\n",
       "    .dataframe thead th {\n",
       "        text-align: right;\n",
       "    }\n",
       "</style>\n",
       "<table border=\"1\" class=\"dataframe\">\n",
       "  <thead>\n",
       "    <tr style=\"text-align: right;\">\n",
       "      <th></th>\n",
       "      <th>title</th>\n",
       "      <th>artist</th>\n",
       "      <th>top genre</th>\n",
       "      <th>year</th>\n",
       "      <th>tempo</th>\n",
       "      <th>energy</th>\n",
       "      <th>danceability</th>\n",
       "      <th>loudness</th>\n",
       "      <th>liveness</th>\n",
       "      <th>valence</th>\n",
       "      <th>duration</th>\n",
       "      <th>acousticness</th>\n",
       "      <th>speechiness</th>\n",
       "      <th>track_popularity</th>\n",
       "    </tr>\n",
       "  </thead>\n",
       "  <tbody>\n",
       "    <tr>\n",
       "      <th>0</th>\n",
       "      <td>Hey, Soul Sister</td>\n",
       "      <td>Train</td>\n",
       "      <td>neo mellow</td>\n",
       "      <td>2010</td>\n",
       "      <td>97.0</td>\n",
       "      <td>89.0</td>\n",
       "      <td>67.0</td>\n",
       "      <td>-4.0</td>\n",
       "      <td>8.0</td>\n",
       "      <td>80.0</td>\n",
       "      <td>217.0</td>\n",
       "      <td>19.0</td>\n",
       "      <td>4.0</td>\n",
       "      <td>83</td>\n",
       "    </tr>\n",
       "    <tr>\n",
       "      <th>1</th>\n",
       "      <td>Love The Way You Lie</td>\n",
       "      <td>Eminem</td>\n",
       "      <td>detroit hip hop</td>\n",
       "      <td>2010</td>\n",
       "      <td>87.0</td>\n",
       "      <td>93.0</td>\n",
       "      <td>75.0</td>\n",
       "      <td>-5.0</td>\n",
       "      <td>52.0</td>\n",
       "      <td>64.0</td>\n",
       "      <td>263.0</td>\n",
       "      <td>24.0</td>\n",
       "      <td>23.0</td>\n",
       "      <td>82</td>\n",
       "    </tr>\n",
       "    <tr>\n",
       "      <th>2</th>\n",
       "      <td>TiK ToK</td>\n",
       "      <td>Kesha</td>\n",
       "      <td>dance pop</td>\n",
       "      <td>2010</td>\n",
       "      <td>120.0</td>\n",
       "      <td>84.0</td>\n",
       "      <td>76.0</td>\n",
       "      <td>-3.0</td>\n",
       "      <td>29.0</td>\n",
       "      <td>71.0</td>\n",
       "      <td>200.0</td>\n",
       "      <td>10.0</td>\n",
       "      <td>14.0</td>\n",
       "      <td>80</td>\n",
       "    </tr>\n",
       "    <tr>\n",
       "      <th>3</th>\n",
       "      <td>Bad Romance</td>\n",
       "      <td>Lady Gaga</td>\n",
       "      <td>dance pop</td>\n",
       "      <td>2010</td>\n",
       "      <td>119.0</td>\n",
       "      <td>92.0</td>\n",
       "      <td>70.0</td>\n",
       "      <td>-4.0</td>\n",
       "      <td>8.0</td>\n",
       "      <td>71.0</td>\n",
       "      <td>295.0</td>\n",
       "      <td>0.0</td>\n",
       "      <td>4.0</td>\n",
       "      <td>79</td>\n",
       "    </tr>\n",
       "    <tr>\n",
       "      <th>4</th>\n",
       "      <td>Just the Way You Are</td>\n",
       "      <td>Bruno Mars</td>\n",
       "      <td>pop</td>\n",
       "      <td>2010</td>\n",
       "      <td>109.0</td>\n",
       "      <td>84.0</td>\n",
       "      <td>64.0</td>\n",
       "      <td>-5.0</td>\n",
       "      <td>9.0</td>\n",
       "      <td>43.0</td>\n",
       "      <td>221.0</td>\n",
       "      <td>2.0</td>\n",
       "      <td>4.0</td>\n",
       "      <td>78</td>\n",
       "    </tr>\n",
       "  </tbody>\n",
       "</table>\n",
       "</div>"
      ],
      "text/plain": [
       "                  title      artist  ... speechiness  track_popularity\n",
       "0      Hey, Soul Sister       Train  ...         4.0                83\n",
       "1  Love The Way You Lie      Eminem  ...        23.0                82\n",
       "2               TiK ToK       Kesha  ...        14.0                80\n",
       "3           Bad Romance   Lady Gaga  ...         4.0                79\n",
       "4  Just the Way You Are  Bruno Mars  ...         4.0                78\n",
       "\n",
       "[5 rows x 14 columns]"
      ]
     },
     "execution_count": 129,
     "metadata": {
      "tags": []
     },
     "output_type": "execute_result"
    }
   ],
   "source": [
    "complete_data = pd.read_csv('../data/tracks_including_2020.csv')\n",
    "complete_data.head()"
   ]
  },
  {
   "cell_type": "code",
   "execution_count": null,
   "metadata": {
    "id": "ESeg1JDbqms6"
   },
   "outputs": [],
   "source": [
    "artist_names_to_2019 = track_data['artist']"
   ]
  },
  {
   "cell_type": "markdown",
   "metadata": {
    "id": "waY0czH-rSR9"
   },
   "source": [
    "<p>Now let's find followers and popularity for artists from the Kaggle dataset by using the Search Api</p>"
   ]
  },
  {
   "cell_type": "code",
   "execution_count": null,
   "metadata": {
    "id": "9FqF6YVVrRpQ"
   },
   "outputs": [],
   "source": [
    "artist_details = []\n",
    "for artist in artist_names_to_2019:\n",
    " artist_details.append(sp.search(artist, type='artist'))"
   ]
  },
  {
   "cell_type": "code",
   "execution_count": null,
   "metadata": {
    "id": "oTz1EO8Jr0Ly"
   },
   "outputs": [],
   "source": [
    "followers = []\n",
    "popularity = []\n",
    "for i, ar in enumerate(artist_details):\n",
    "  name = ar['artists']['items'][0]['name']\n",
    "  if name == artist_names_to_2019[i]:\n",
    "    followers.append(ar['artists']['items'][0]['followers']['total'])\n",
    "    popularity.append(ar['artists']['items'][0]['popularity'])\n",
    "  else:\n",
    "    followers.append(np.nan)\n",
    "    popularity.append(np.nan)"
   ]
  },
  {
   "cell_type": "code",
   "execution_count": null,
   "metadata": {
    "id": "2MzPd8RqtcvY"
   },
   "outputs": [],
   "source": [
    "artists_2020['followers'] = [artists_2020.iloc[i][\"followers\"]['total'] for i in range(len(artists_2020))]"
   ]
  },
  {
   "cell_type": "code",
   "execution_count": null,
   "metadata": {
    "id": "lCX0d0HUuAc8"
   },
   "outputs": [],
   "source": [
    "followers.extend(artists_2020['followers'].values)"
   ]
  },
  {
   "cell_type": "code",
   "execution_count": null,
   "metadata": {
    "id": "eI--hmzhuOVc"
   },
   "outputs": [],
   "source": [
    "popularity.extend(artists_2020['popularity'].values)"
   ]
  },
  {
   "cell_type": "code",
   "execution_count": null,
   "metadata": {
    "id": "kOt7ratTuVfH"
   },
   "outputs": [],
   "source": [
    "complete_data.insert(3, 'artist_popularity', popularity)"
   ]
  },
  {
   "cell_type": "code",
   "execution_count": null,
   "metadata": {
    "id": "rWqdlhX8ufXe"
   },
   "outputs": [],
   "source": [
    "complete_data.insert(3, 'followers', followers)"
   ]
  },
  {
   "cell_type": "markdown",
   "metadata": {
    "id": "C4t1wxPA3knx"
   },
   "source": [
    "<p>To obtain followers in millions</p>"
   ]
  },
  {
   "cell_type": "code",
   "execution_count": null,
   "metadata": {
    "id": "6xsVCBYR3bCt"
   },
   "outputs": [],
   "source": [
    "complete_data['followers'] = complete_data['followers'] / 1000000"
   ]
  },
  {
   "cell_type": "code",
   "execution_count": 10,
   "metadata": {},
   "outputs": [
    {
     "data": {
      "text/plain": [
       "array(['acoustic pop', 'alaska indie', 'alternative r&b', 'art pop',\n",
       "       'atl hip hop', 'australian dance', 'australian hip hop',\n",
       "       'australian pop', 'barbadian pop', 'baroque pop', 'belgian edm',\n",
       "       'big room', 'boy band', 'british soul', 'brostep',\n",
       "       'canadian contemporary r&b', 'canadian hip hop', 'canadian latin',\n",
       "       'canadian pop', 'candy pop', 'celtic rock', 'chicago rap',\n",
       "       'colombian pop', 'complextro', 'contemporary country', 'dance pop',\n",
       "       'danish pop', 'detroit hip hop', 'downtempo', 'edm', 'electro',\n",
       "       'electro house', 'electronic trap', 'electropop', 'escape room',\n",
       "       'folk-pop', 'french indie pop', 'hip hop', 'hip pop', 'hollywood',\n",
       "       'house', 'indie pop', 'irish singer-songwriter', 'latin',\n",
       "       'metropopolis', 'moroccan pop', 'neo mellow', 'permanent wave',\n",
       "       'pop', 'tropical house'], dtype=object)"
      ]
     },
     "execution_count": 10,
     "metadata": {},
     "output_type": "execute_result"
    }
   ],
   "source": [
    "np.unique(complete_data['top genre'])"
   ]
  },
  {
   "cell_type": "markdown",
   "metadata": {},
   "source": [
    "Since there are a lot of unique genres, in order to make the data more suitable a hierarchical grouping may be suitable. I am going to use the hierarchical music genre classification provided in an article at <a href=\"https://www.researchgate.net/figure/Musical-Genres-Hiearachy_fig5_35389182\"> Research gate</a> resulting in 10 unique genres. <img src=\"https://www.researchgate.net/profile/George-Tzanetakis/publication/35389182/figure/fig5/AS:372558584139779@1465836296395/Musical-Genres-Hiearachy.png\" alt=\"1: Musical Genres Hiearachy\"/>"
   ]
  },
  {
   "cell_type": "markdown",
   "metadata": {},
   "source": [
    "Hierarchy for grouping taken from: <a href='https://musicmap.info/'>Musicmap</a>"
   ]
  },
  {
   "cell_type": "code",
   "execution_count": 226,
   "metadata": {},
   "outputs": [],
   "source": [
    "genre_hierarchy = {\n",
    "    'POP' : [\n",
    "        'schlager',\n",
    "        'skiffle',\n",
    "        'brill building pop & crooners',\n",
    "        'bubblegum & teenybop',\n",
    "        'country pop',\n",
    "        'country rock',\n",
    "        'singer/songwriter',\n",
    "        'pop rock', \n",
    "        'power pop',\n",
    "        'soft rock',\n",
    "        'adult contemporary',\n",
    "        'synthpop',\n",
    "        'new romantics',\n",
    "        'hi-nrg',\n",
    "        'eurodisco',\n",
    "        'disco pop',\n",
    "        'post-disco',\n",
    "        'indie pop',\n",
    "        'twee',\n",
    "        'dream pop',\n",
    "        'shoegaze',\n",
    "        'asian pop',\n",
    "        'britpop',\n",
    "        'dance pop',\n",
    "        'post-britpop',\n",
    "        'electroclash',\n",
    "        'nu wave',\n",
    "        'indietronica',\n",
    "        'chillwave',\n",
    "        'electropop',\n",
    "        'neo mellow',\n",
    "        'pop',\n",
    "        'canadian pop',\n",
    "        'barbadian pop',\n",
    "        'australian pop',\n",
    "        'art pop',\n",
    "        'colombian pop',\n",
    "        'acoustic pop',\n",
    "        'boy band',\n",
    "        'baroque pop',\n",
    "        'pop rap',\n",
    "        'candy pop',\n",
    "        'folk-pop',\n",
    "        'metropopolis',\n",
    "        'australian dance',\n",
    "        'canadian contemporary r&b',\n",
    "        'alternative r&b'\n",
    "        'french indie pop',\n",
    "        'danish pop',\n",
    "        'moroccan pop',\n",
    "        'french indie pop',\n",
    "        'alternative r&b',\n",
    "        'nz pop',\n",
    "        'k-pop'\n",
    "    ],\n",
    "    'COUNTRY': [\n",
    "        'classic country',\n",
    "        'hillbilly',\n",
    "        'western swing',\n",
    "        'honky tonk', \n",
    "        'hardcore country',\n",
    "        'bluegrass',\n",
    "        'bakersfield',\n",
    "        'nashville',\n",
    "        'countrypolitan',\n",
    "        'country pop',\n",
    "        'country rock',\n",
    "        'progressive country',\n",
    "        'outlaw country',\n",
    "        'urban country',\n",
    "        'contemporary country',\n",
    "        'neotraditionalists',\n",
    "        'americana',\n",
    "        'alternative country'\n",
    "    ],\n",
    "    'METAL': [\n",
    "        'classic metal',\n",
    "        'progressive metal',\n",
    "        'power metal',\n",
    "        'glam metal',\n",
    "        'hair metal ',\n",
    "        'pop metal',\n",
    "        'nwobhm',\n",
    "        'thrash metal',\n",
    "        'extreme metal',\n",
    "        'crossover thrash',\n",
    "        'doom metal',\n",
    "        'death metal',\n",
    "        'grindcore',\n",
    "        'stoner metal',\n",
    "        'stoner rock',\n",
    "        'sludge metal',\n",
    "        'sludge rock',\n",
    "        'symphonic metal',\n",
    "        'gothic metal',\n",
    "        'black metal',\n",
    "        'nu metal', \n",
    "        'rap metal',\n",
    "        'metalcore',\n",
    "        'nwoahm'\n",
    "    ],\n",
    "    'BLUES': [\n",
    "        'country blues',\n",
    "        'folk blues',\n",
    "        'delta blues',\n",
    "        'vaudeville', \n",
    "        'classic blues',\n",
    "        'boogie woogie',\n",
    "        'piano blues',\n",
    "        'electric blues',\n",
    "        'texas blues',\n",
    "        'jump blues',\n",
    "        'chicago blues',\n",
    "        'city blues',\n",
    "        'urban blues',\n",
    "        'west coast blues',\n",
    "        'louisiana blues',\n",
    "        'swamp blues',\n",
    "        'british blues',\n",
    "        'blues rock',\n",
    "        'texas bluesrock',\n",
    "        'modern electric blues',\n",
    "        'soul blues',\n",
    "        'southern soul ii',\n",
    "        'hill country blues',\n",
    "        'trance blues',\n",
    "        'british soul'\n",
    "    ],\n",
    "    'JAZZ': [\n",
    "        'new orleans jazz',\n",
    "        'dixieland jazz',\n",
    "        'chicago jazz',\n",
    "        'swing',\n",
    "        'big band',\n",
    "        'third stream',\n",
    "        'progressive jazz',\n",
    "        'modal jazz',\n",
    "        'new orleans',\n",
    "        'dixieland jazz revivals',\n",
    "        'bebop',\n",
    "        'cool jazz',\n",
    "        'west coast jazz',\n",
    "        'hard bop',\n",
    "        'soul jazz',\n",
    "        'jazz funk',\n",
    "        'free jazz',\n",
    "        'avant-garde',\n",
    "        'fusion',\n",
    "        'jazz rock',\n",
    "        'smooth jazz',\n",
    "        'acid jazz',\n",
    "        'jazzdance',\n",
    "        'nu jazz',\n",
    "        'electro jazz',\n",
    "        'nordic jazz',\n",
    "        'electro swing'\n",
    "    ],\n",
    "    'HIPHOP': [\n",
    "        'old skool rap pioneers',\n",
    "        'electro',\n",
    "        'golden age rap',\n",
    "        'hardcore rap',\n",
    "        'miami bass & bounce',\n",
    "        'gangsta rap',\n",
    "        'jazz rap',\n",
    "        'native tongue',\n",
    "        'progressive rap',\n",
    "        'nu skool rap',\n",
    "        'reggaeton',\n",
    "        'latin rap',\n",
    "        'south rap', \n",
    "        'crunk',\n",
    "        'snap',\n",
    "        'east coast gangsta rap',\n",
    "        'trap',\n",
    "        'drill',\n",
    "        'urban breaks',\n",
    "        'nu r&b ii',\n",
    "        'glitch hop',\n",
    "        'wonky',\n",
    "        'detroit hip hop',\n",
    "        'hip pop',\n",
    "        'atl hip hop',\n",
    "        'chicago rap',\n",
    "        'canadian hip hop',\n",
    "        'australian hip hop',\n",
    "        'hip hop',\n",
    "        'melodic rap',\n",
    "        'north carolina hip hop',\n",
    "        'emo rap',\n",
    "        'dfw rap',\n",
    "        'cali rap',\n",
    "        'rap'\n",
    "    ],\n",
    "    'DISCO': [\n",
    "        'chicago house',\n",
    "        'garage house',\n",
    "        'acid house',\n",
    "        'ambient house',\n",
    "        'chill-out',\n",
    "        'hip house',\n",
    "        'eurodance',\n",
    "        'deep house',\n",
    "        'ibiza house',\n",
    "        'dream house',\n",
    "        'progressive house',\n",
    "        'tech house',\n",
    "        'electro house',\n",
    "        'dutch house',\n",
    "        'fidget house',\n",
    "        'complextro',\n",
    "        'nu disco',\n",
    "        'funktronica',\n",
    "        'moombahton',\n",
    "        'disco',\n",
    "        'big room',\n",
    "        'house',\n",
    "        'tropical house',\n",
    "        'electronic trap',\n",
    "        'edm'\n",
    "    ],\n",
    "    'ROCK': [\n",
    "        'skiffle',\n",
    "        \"rock 'n roll\",\n",
    "        'rockabilly',\n",
    "        'rock',\n",
    "        'american & british folk revival',\n",
    "        'surf rock',\n",
    "        'instrumental rock',\n",
    "        'garage rock',\n",
    "        'permanent wave',\n",
    "        'celtic rock',\n",
    "        'alaska indie'\n",
    "    ],\n",
    "    'UNKNOWN': [\n",
    "        'hollywood',\n",
    "        'irish singer-songwriter',\n",
    "        'belgian edm',\n",
    "        'latin',\n",
    "        'canadian latin',\n",
    "        'downtempo',\n",
    "        'brostep',\n",
    "        'escape room',\n",
    "        'bedroom soul',\n",
    "        'alt z'\n",
    "    ]\n",
    "    \n",
    "}"
   ]
  },
  {
   "cell_type": "code",
   "execution_count": 227,
   "metadata": {},
   "outputs": [],
   "source": [
    "reverse_hierarchy = {}\n",
    "for item in genre_hierarchy.items():\n",
    "    for elem in item[1]:\n",
    "        reverse_hierarchy[elem] = item[0]"
   ]
  },
  {
   "cell_type": "code",
   "execution_count": 229,
   "metadata": {},
   "outputs": [],
   "source": [
    "complete_data['top genre'] = [reverse_hierarchy[genre] for genre in complete_data['top genre']]"
   ]
  },
  {
   "cell_type": "code",
   "execution_count": 230,
   "metadata": {},
   "outputs": [],
   "source": [
    "complete_data.to_csv('../data/final_spotify_tracks.csv',index=False)"
   ]
  }
 ],
 "metadata": {
  "colab": {
   "authorship_tag": "ABX9TyOqIBjKX2NKROydjtk8lsGc",
   "collapsed_sections": [],
   "mount_file_id": "1M1YWdz09F9WQVrhGATklhiA-TvM9RM4y",
   "name": "181004 - EDA - Spotify top tracks.ipynb",
   "provenance": []
  },
  "kernelspec": {
   "display_name": "Python 3",
   "language": "python",
   "name": "python3"
  },
  "language_info": {
   "codemirror_mode": {
    "name": "ipython",
    "version": 3
   },
   "file_extension": ".py",
   "mimetype": "text/x-python",
   "name": "python",
   "nbconvert_exporter": "python",
   "pygments_lexer": "ipython3",
   "version": "3.8.5"
  }
 },
 "nbformat": 4,
 "nbformat_minor": 1
}
