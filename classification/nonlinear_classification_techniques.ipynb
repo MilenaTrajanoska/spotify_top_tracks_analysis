{
  "nbformat": 4,
  "nbformat_minor": 0,
  "metadata": {
    "colab": {
      "name": "nonlinear_classification_techniques.ipynb",
      "provenance": [],
      "collapsed_sections": []
    },
    "kernelspec": {
      "name": "python3",
      "display_name": "Python 3"
    },
    "language_info": {
      "name": "python"
    }
  },
  "cells": [
    {
      "cell_type": "code",
      "metadata": {
        "id": "C1nAL_wTtoRq"
      },
      "source": [
        "import pandas as pd\n",
        "import numpy as np\n",
        "import matplotlib.pyplot as plt\n",
        "import seaborn as sns\n",
        "from sklearn.preprocessing import LabelEncoder, StandardScaler\n",
        "from sklearn.model_selection import train_test_split, cross_val_predict, cross_val_score, KFold\n",
        "from sklearn.metrics import accuracy_score, precision_score, recall_score, f1_score, auc, confusion_matrix, classification_report, roc_curve, roc_auc_score\n",
        "from xgboost import XGBClassifier\n",
        "from tensorflow.keras.models import Sequential\n",
        "from tensorflow.keras.layers import Dense, Dropout\n",
        "from sklearn.model_selection import GridSearchCV\n",
        "import tensorflow.keras.metrics\n",
        "import shap\n",
        "import warnings\n",
        "warnings.filterwarnings('ignore')"
      ],
      "execution_count": 53,
      "outputs": []
    },
    {
      "cell_type": "code",
      "metadata": {
        "colab": {
          "base_uri": "https://localhost:8080/",
          "height": 354
        },
        "id": "bsG0VRspvtMR",
        "outputId": "88252b9b-ca36-4747-bc11-1de467dcf2d6"
      },
      "source": [
        "data = pd.read_csv('/content/drive/MyDrive/spotify top tracks/data/tracks_with_binary_target.csv')\n",
        "data.set_index('title', inplace=True)\n",
        "data.head()"
      ],
      "execution_count": 7,
      "outputs": [
        {
          "output_type": "execute_result",
          "data": {
            "text/html": [
              "<div>\n",
              "<style scoped>\n",
              "    .dataframe tbody tr th:only-of-type {\n",
              "        vertical-align: middle;\n",
              "    }\n",
              "\n",
              "    .dataframe tbody tr th {\n",
              "        vertical-align: top;\n",
              "    }\n",
              "\n",
              "    .dataframe thead th {\n",
              "        text-align: right;\n",
              "    }\n",
              "</style>\n",
              "<table border=\"1\" class=\"dataframe\">\n",
              "  <thead>\n",
              "    <tr style=\"text-align: right;\">\n",
              "      <th></th>\n",
              "      <th>artist</th>\n",
              "      <th>followers</th>\n",
              "      <th>artist_popularity</th>\n",
              "      <th>year</th>\n",
              "      <th>tempo</th>\n",
              "      <th>energy</th>\n",
              "      <th>danceability</th>\n",
              "      <th>loudness</th>\n",
              "      <th>liveness</th>\n",
              "      <th>valence</th>\n",
              "      <th>duration</th>\n",
              "      <th>acousticness</th>\n",
              "      <th>speechiness</th>\n",
              "      <th>track_popularity</th>\n",
              "      <th>is_dance_pop</th>\n",
              "    </tr>\n",
              "    <tr>\n",
              "      <th>title</th>\n",
              "      <th></th>\n",
              "      <th></th>\n",
              "      <th></th>\n",
              "      <th></th>\n",
              "      <th></th>\n",
              "      <th></th>\n",
              "      <th></th>\n",
              "      <th></th>\n",
              "      <th></th>\n",
              "      <th></th>\n",
              "      <th></th>\n",
              "      <th></th>\n",
              "      <th></th>\n",
              "      <th></th>\n",
              "      <th></th>\n",
              "    </tr>\n",
              "  </thead>\n",
              "  <tbody>\n",
              "    <tr>\n",
              "      <th>Hey, Soul Sister</th>\n",
              "      <td>Train</td>\n",
              "      <td>3.693075</td>\n",
              "      <td>78</td>\n",
              "      <td>2010</td>\n",
              "      <td>97.0</td>\n",
              "      <td>89.0</td>\n",
              "      <td>67.0</td>\n",
              "      <td>-4.0</td>\n",
              "      <td>8.0</td>\n",
              "      <td>80.0</td>\n",
              "      <td>217.0</td>\n",
              "      <td>19.0</td>\n",
              "      <td>4.0</td>\n",
              "      <td>83</td>\n",
              "      <td>0</td>\n",
              "    </tr>\n",
              "    <tr>\n",
              "      <th>Love The Way You Lie</th>\n",
              "      <td>Eminem</td>\n",
              "      <td>44.814807</td>\n",
              "      <td>94</td>\n",
              "      <td>2010</td>\n",
              "      <td>87.0</td>\n",
              "      <td>93.0</td>\n",
              "      <td>75.0</td>\n",
              "      <td>-5.0</td>\n",
              "      <td>52.0</td>\n",
              "      <td>64.0</td>\n",
              "      <td>263.0</td>\n",
              "      <td>24.0</td>\n",
              "      <td>23.0</td>\n",
              "      <td>82</td>\n",
              "      <td>0</td>\n",
              "    </tr>\n",
              "    <tr>\n",
              "      <th>TiK ToK</th>\n",
              "      <td>Kesha</td>\n",
              "      <td>6.410236</td>\n",
              "      <td>81</td>\n",
              "      <td>2010</td>\n",
              "      <td>120.0</td>\n",
              "      <td>84.0</td>\n",
              "      <td>76.0</td>\n",
              "      <td>-3.0</td>\n",
              "      <td>29.0</td>\n",
              "      <td>71.0</td>\n",
              "      <td>200.0</td>\n",
              "      <td>10.0</td>\n",
              "      <td>14.0</td>\n",
              "      <td>80</td>\n",
              "      <td>1</td>\n",
              "    </tr>\n",
              "    <tr>\n",
              "      <th>Bad Romance</th>\n",
              "      <td>Lady Gaga</td>\n",
              "      <td>17.680180</td>\n",
              "      <td>89</td>\n",
              "      <td>2010</td>\n",
              "      <td>119.0</td>\n",
              "      <td>92.0</td>\n",
              "      <td>70.0</td>\n",
              "      <td>-4.0</td>\n",
              "      <td>8.0</td>\n",
              "      <td>71.0</td>\n",
              "      <td>295.0</td>\n",
              "      <td>0.0</td>\n",
              "      <td>4.0</td>\n",
              "      <td>79</td>\n",
              "      <td>1</td>\n",
              "    </tr>\n",
              "    <tr>\n",
              "      <th>Just the Way You Are</th>\n",
              "      <td>Bruno Mars</td>\n",
              "      <td>31.020064</td>\n",
              "      <td>93</td>\n",
              "      <td>2010</td>\n",
              "      <td>109.0</td>\n",
              "      <td>84.0</td>\n",
              "      <td>64.0</td>\n",
              "      <td>-5.0</td>\n",
              "      <td>9.0</td>\n",
              "      <td>43.0</td>\n",
              "      <td>221.0</td>\n",
              "      <td>2.0</td>\n",
              "      <td>4.0</td>\n",
              "      <td>78</td>\n",
              "      <td>0</td>\n",
              "    </tr>\n",
              "  </tbody>\n",
              "</table>\n",
              "</div>"
            ],
            "text/plain": [
              "                          artist  followers  ...  track_popularity  is_dance_pop\n",
              "title                                        ...                                \n",
              "Hey, Soul Sister           Train   3.693075  ...                83             0\n",
              "Love The Way You Lie      Eminem  44.814807  ...                82             0\n",
              "TiK ToK                    Kesha   6.410236  ...                80             1\n",
              "Bad Romance            Lady Gaga  17.680180  ...                79             1\n",
              "Just the Way You Are  Bruno Mars  31.020064  ...                78             0\n",
              "\n",
              "[5 rows x 15 columns]"
            ]
          },
          "metadata": {
            "tags": []
          },
          "execution_count": 7
        }
      ]
    },
    {
      "cell_type": "code",
      "metadata": {
        "id": "HjHeS-NmwjV7"
      },
      "source": [
        "enc = LabelEncoder()\n",
        "data['artist'] = enc.fit_transform(data['artist'])"
      ],
      "execution_count": 10,
      "outputs": []
    },
    {
      "cell_type": "code",
      "metadata": {
        "colab": {
          "base_uri": "https://localhost:8080/",
          "height": 354
        },
        "id": "f311DgOswvZv",
        "outputId": "b49fde9c-db27-48b7-a6fe-c447374e8ac6"
      },
      "source": [
        "data.head()"
      ],
      "execution_count": 11,
      "outputs": [
        {
          "output_type": "execute_result",
          "data": {
            "text/html": [
              "<div>\n",
              "<style scoped>\n",
              "    .dataframe tbody tr th:only-of-type {\n",
              "        vertical-align: middle;\n",
              "    }\n",
              "\n",
              "    .dataframe tbody tr th {\n",
              "        vertical-align: top;\n",
              "    }\n",
              "\n",
              "    .dataframe thead th {\n",
              "        text-align: right;\n",
              "    }\n",
              "</style>\n",
              "<table border=\"1\" class=\"dataframe\">\n",
              "  <thead>\n",
              "    <tr style=\"text-align: right;\">\n",
              "      <th></th>\n",
              "      <th>artist</th>\n",
              "      <th>followers</th>\n",
              "      <th>artist_popularity</th>\n",
              "      <th>year</th>\n",
              "      <th>tempo</th>\n",
              "      <th>energy</th>\n",
              "      <th>danceability</th>\n",
              "      <th>loudness</th>\n",
              "      <th>liveness</th>\n",
              "      <th>valence</th>\n",
              "      <th>duration</th>\n",
              "      <th>acousticness</th>\n",
              "      <th>speechiness</th>\n",
              "      <th>track_popularity</th>\n",
              "      <th>is_dance_pop</th>\n",
              "    </tr>\n",
              "    <tr>\n",
              "      <th>title</th>\n",
              "      <th></th>\n",
              "      <th></th>\n",
              "      <th></th>\n",
              "      <th></th>\n",
              "      <th></th>\n",
              "      <th></th>\n",
              "      <th></th>\n",
              "      <th></th>\n",
              "      <th></th>\n",
              "      <th></th>\n",
              "      <th></th>\n",
              "      <th></th>\n",
              "      <th></th>\n",
              "      <th></th>\n",
              "      <th></th>\n",
              "    </tr>\n",
              "  </thead>\n",
              "  <tbody>\n",
              "    <tr>\n",
              "      <th>Hey, Soul Sister</th>\n",
              "      <td>200</td>\n",
              "      <td>3.693075</td>\n",
              "      <td>78</td>\n",
              "      <td>2010</td>\n",
              "      <td>97.0</td>\n",
              "      <td>89.0</td>\n",
              "      <td>67.0</td>\n",
              "      <td>-4.0</td>\n",
              "      <td>8.0</td>\n",
              "      <td>80.0</td>\n",
              "      <td>217.0</td>\n",
              "      <td>19.0</td>\n",
              "      <td>4.0</td>\n",
              "      <td>83</td>\n",
              "      <td>0</td>\n",
              "    </tr>\n",
              "    <tr>\n",
              "      <th>Love The Way You Lie</th>\n",
              "      <td>58</td>\n",
              "      <td>44.814807</td>\n",
              "      <td>94</td>\n",
              "      <td>2010</td>\n",
              "      <td>87.0</td>\n",
              "      <td>93.0</td>\n",
              "      <td>75.0</td>\n",
              "      <td>-5.0</td>\n",
              "      <td>52.0</td>\n",
              "      <td>64.0</td>\n",
              "      <td>263.0</td>\n",
              "      <td>24.0</td>\n",
              "      <td>23.0</td>\n",
              "      <td>82</td>\n",
              "      <td>0</td>\n",
              "    </tr>\n",
              "    <tr>\n",
              "      <th>TiK ToK</th>\n",
              "      <td>103</td>\n",
              "      <td>6.410236</td>\n",
              "      <td>81</td>\n",
              "      <td>2010</td>\n",
              "      <td>120.0</td>\n",
              "      <td>84.0</td>\n",
              "      <td>76.0</td>\n",
              "      <td>-3.0</td>\n",
              "      <td>29.0</td>\n",
              "      <td>71.0</td>\n",
              "      <td>200.0</td>\n",
              "      <td>10.0</td>\n",
              "      <td>14.0</td>\n",
              "      <td>80</td>\n",
              "      <td>1</td>\n",
              "    </tr>\n",
              "    <tr>\n",
              "      <th>Bad Romance</th>\n",
              "      <td>108</td>\n",
              "      <td>17.680180</td>\n",
              "      <td>89</td>\n",
              "      <td>2010</td>\n",
              "      <td>119.0</td>\n",
              "      <td>92.0</td>\n",
              "      <td>70.0</td>\n",
              "      <td>-4.0</td>\n",
              "      <td>8.0</td>\n",
              "      <td>71.0</td>\n",
              "      <td>295.0</td>\n",
              "      <td>0.0</td>\n",
              "      <td>4.0</td>\n",
              "      <td>79</td>\n",
              "      <td>1</td>\n",
              "    </tr>\n",
              "    <tr>\n",
              "      <th>Just the Way You Are</th>\n",
              "      <td>26</td>\n",
              "      <td>31.020064</td>\n",
              "      <td>93</td>\n",
              "      <td>2010</td>\n",
              "      <td>109.0</td>\n",
              "      <td>84.0</td>\n",
              "      <td>64.0</td>\n",
              "      <td>-5.0</td>\n",
              "      <td>9.0</td>\n",
              "      <td>43.0</td>\n",
              "      <td>221.0</td>\n",
              "      <td>2.0</td>\n",
              "      <td>4.0</td>\n",
              "      <td>78</td>\n",
              "      <td>0</td>\n",
              "    </tr>\n",
              "  </tbody>\n",
              "</table>\n",
              "</div>"
            ],
            "text/plain": [
              "                      artist  followers  ...  track_popularity  is_dance_pop\n",
              "title                                    ...                                \n",
              "Hey, Soul Sister         200   3.693075  ...                83             0\n",
              "Love The Way You Lie      58  44.814807  ...                82             0\n",
              "TiK ToK                  103   6.410236  ...                80             1\n",
              "Bad Romance              108  17.680180  ...                79             1\n",
              "Just the Way You Are      26  31.020064  ...                78             0\n",
              "\n",
              "[5 rows x 15 columns]"
            ]
          },
          "metadata": {
            "tags": []
          },
          "execution_count": 11
        }
      ]
    },
    {
      "cell_type": "code",
      "metadata": {
        "id": "ztZJofoOwzmk"
      },
      "source": [
        "label = 'is_dance_pop'\n",
        "features = data.columns.drop(label)\n",
        "X = data[features]\n",
        "Y = data[label]"
      ],
      "execution_count": 12,
      "outputs": []
    },
    {
      "cell_type": "markdown",
      "metadata": {
        "id": "NVjX4fvEu57F"
      },
      "source": [
        "<h1>1. Extreme gradient boosting for classification</h1>"
      ]
    },
    {
      "cell_type": "code",
      "metadata": {
        "id": "qM6IjtqvvBa4"
      },
      "source": [
        "def hyper_parameter_search(X, Y, params):\n",
        "  xgb = XGBClassifier(n_jobs=-1)\n",
        "  gscv = GridSearchCV(xgb, params, n_jobs=-1, scoring='f1', cv=5)\n",
        "  xgboost_best = gscv.fit(X = X, y=Y)\n",
        "  return xgboost_best.best_params_, xgboost_best.best_score_"
      ],
      "execution_count": 22,
      "outputs": []
    },
    {
      "cell_type": "code",
      "metadata": {
        "id": "W3plcDMpxMSX"
      },
      "source": [
        "def shap_graphs(model, X):\n",
        "  expl = shap.Explainer(model, X)\n",
        "  shap_values = expl(X)\n",
        "  shap.plots.bar(shap_values)\n",
        "  shap.plots.beeswarm(shap_values)"
      ],
      "execution_count": 20,
      "outputs": []
    },
    {
      "cell_type": "code",
      "metadata": {
        "id": "iwlzOmcS1SvB"
      },
      "source": [
        "def cross_validation_model(X, Y, model):\n",
        "  predicted = []\n",
        "  actual = []\n",
        "  folds = KFold(n_splits=5, shuffle=True, random_state=0)\n",
        "\n",
        "  for train_ind, test_ind in folds.split(X):\n",
        "    X_train = X.iloc[train_ind]\n",
        "    Y_train = Y.iloc[train_ind]\n",
        "    X_test = X.iloc[test_ind]\n",
        "    Y_test = Y.iloc[test_ind]\n",
        "    model.fit(X_train, Y_train)\n",
        "    predicted_vals = model.predict(X_test)\n",
        "    predicted.extend(predicted_vals)\n",
        "    actual.extend(Y_test.to_list())\n",
        "  \n",
        "  return predicted, actual"
      ],
      "execution_count": 59,
      "outputs": []
    },
    {
      "cell_type": "code",
      "metadata": {
        "id": "1gjaXh0y2K-M"
      },
      "source": [
        "def draw_roc_curve(Y_test, Y_pred):\n",
        "  print(f'Roc auc score: {roc_auc_score(Y_test, Y_pred)}')\n",
        "  fpr, tpr, _ = roc_curve(Y_test, Y_pred)\n",
        "  roc_auc = auc(fpr, tpr)\n",
        "  plt.plot(fpr, tpr, color='blue')\n",
        "  x = np.arange(0.0, 1.1, 0.1)\n",
        "  plt.plot(x, x, color='orange',linestyle='dashed')\n",
        "  plt.xlabel('False Positive Rate')\n",
        "  plt.ylabel('True Positive Rate')\n",
        "  plt.title('ROC curve')\n",
        "  plt.show()"
      ],
      "execution_count": 33,
      "outputs": []
    },
    {
      "cell_type": "code",
      "metadata": {
        "id": "lp0oA3jIvVo1"
      },
      "source": [
        "PARAMS = {\n",
        "    'max_depth': [2, 3, 5, 10],\n",
        "    'min_child_weight': [3, 4, 5, 6],\n",
        "    'learning_rate': [0.003, 0.05, 0.1, 0.25, 0.5],\n",
        "    'gamma': [0, 0.1, 0.3],\n",
        "    'n_estimators': [35, 50, 100, 150, 200, 250]\n",
        "}"
      ],
      "execution_count": 15,
      "outputs": []
    },
    {
      "cell_type": "code",
      "metadata": {
        "id": "tfupkyRqvXCN"
      },
      "source": [
        "xgb_params, xgb_score = hyper_parameter_search(X, Y, PARAMS)"
      ],
      "execution_count": 23,
      "outputs": []
    },
    {
      "cell_type": "code",
      "metadata": {
        "colab": {
          "base_uri": "https://localhost:8080/"
        },
        "id": "MTo_wTH0yzth",
        "outputId": "435a72f5-1405-4f58-c8fc-cc259b43985d"
      },
      "source": [
        "print(f'best parameters: {xgb_params}')\n",
        "print(f'F1 score: {xgb_score}')"
      ],
      "execution_count": 25,
      "outputs": [
        {
          "output_type": "stream",
          "text": [
            "best parameters: {'gamma': 0.1, 'learning_rate': 0.003, 'max_depth': 5, 'min_child_weight': 3, 'n_estimators': 250}\n",
            "F1 score: 0.8216513803873404\n"
          ],
          "name": "stdout"
        }
      ]
    },
    {
      "cell_type": "code",
      "metadata": {
        "id": "MeAhQPan0zN-"
      },
      "source": [
        "xgb_clf = XGBClassifier(\n",
        "    max_depth = xgb_params['max_depth'],\n",
        "    min_child_weight = xgb_params['min_child_weight'],\n",
        "    learning_rate = xgb_params['learning_rate'],\n",
        "    gamma = xgb_params['gamma'],\n",
        "    n_estimators = xgb_params['n_estimators']\n",
        ")"
      ],
      "execution_count": 26,
      "outputs": []
    },
    {
      "cell_type": "code",
      "metadata": {
        "id": "tQ0fAJCb1Mq-"
      },
      "source": [
        "predicted_xgb, actual_xgb = cross_validation_model(X, Y, xgb_clf)"
      ],
      "execution_count": 43,
      "outputs": []
    },
    {
      "cell_type": "code",
      "metadata": {
        "colab": {
          "base_uri": "https://localhost:8080/",
          "height": 458
        },
        "id": "CPvLBdPr1jIr",
        "outputId": "171d8e17-8064-49da-c38b-762ad69d4201"
      },
      "source": [
        "plt.figure(figsize=(10,7))\n",
        "sns.heatmap(confusion_matrix(actual_xgb, predicted_xgb), annot=True, fmt='.5g')\n",
        "plt.xlabel('Actual')\n",
        "plt.ylabel('Predicted')\n",
        "plt.title('Confusion matrix cv-5 XGBoost')\n",
        "plt.show()"
      ],
      "execution_count": 44,
      "outputs": [
        {
          "output_type": "display_data",
          "data": {
            "image/png": "[encoded data removed]",
            "text/plain": [
              "<Figure size 720x504 with 2 Axes>"
            ]
          },
          "metadata": {
            "tags": [],
            "needs_background": "light"
          }
        }
      ]
    },
    {
      "cell_type": "code",
      "metadata": {
        "colab": {
          "base_uri": "https://localhost:8080/"
        },
        "id": "IBCPIz3q1z_h",
        "outputId": "ca3f6fef-186e-41da-ab4b-4d8aa7ea5384"
      },
      "source": [
        "print(classification_report(actual_xgb, predicted_xgb))"
      ],
      "execution_count": 45,
      "outputs": [
        {
          "output_type": "stream",
          "text": [
            "              precision    recall  f1-score   support\n",
            "\n",
            "           0       0.82      0.74      0.78       315\n",
            "           1       0.78      0.84      0.81       337\n",
            "\n",
            "    accuracy                           0.79       652\n",
            "   macro avg       0.80      0.79      0.79       652\n",
            "weighted avg       0.80      0.79      0.79       652\n",
            "\n"
          ],
          "name": "stdout"
        }
      ]
    },
    {
      "cell_type": "code",
      "metadata": {
        "colab": {
          "base_uri": "https://localhost:8080/",
          "height": 312
        },
        "id": "H0CYG2es2CnS",
        "outputId": "09c479c8-19d3-4efe-e5f3-68012bd263f2"
      },
      "source": [
        "draw_roc_curve(actual_xgb, predicted_xgb)"
      ],
      "execution_count": 36,
      "outputs": [
        {
          "output_type": "stream",
          "text": [
            "Roc auc score: 0.7927935565917762\n"
          ],
          "name": "stdout"
        },
        {
          "output_type": "display_data",
          "data": {
            "image/png": "[encoded data removed]",
            "text/plain": [
              "<Figure size 432x288 with 1 Axes>"
            ]
          },
          "metadata": {
            "tags": [],
            "needs_background": "light"
          }
        }
      ]
    },
    {
      "cell_type": "markdown",
      "metadata": {
        "id": "11GuYQm118Fk"
      },
      "source": [
        "The xgboost model has promissing scores but they are lower than the random forest results."
      ]
    },
    {
      "cell_type": "markdown",
      "metadata": {
        "id": "GzylBk_g2Vn0"
      },
      "source": [
        "<h3>Explaining the feature importances of xgboost</h3>"
      ]
    },
    {
      "cell_type": "code",
      "metadata": {
        "id": "WFSco5cx2cWN"
      },
      "source": [
        "X_train, X_test, Y_train, Y_test = train_test_split(\n",
        "    X, \n",
        "    Y,\n",
        "    test_size=0.2\n",
        ")"
      ],
      "execution_count": 37,
      "outputs": []
    },
    {
      "cell_type": "code",
      "metadata": {
        "colab": {
          "base_uri": "https://localhost:8080/"
        },
        "id": "xVXg3Jkq2ivh",
        "outputId": "90b130d3-8059-43cb-82ec-a3fb3391fe29"
      },
      "source": [
        "xgb_clf.fit(X_train, Y_train)"
      ],
      "execution_count": 38,
      "outputs": [
        {
          "output_type": "execute_result",
          "data": {
            "text/plain": [
              "XGBClassifier(base_score=0.5, booster='gbtree', colsample_bylevel=1,\n",
              "              colsample_bynode=1, colsample_bytree=1, gamma=0.1,\n",
              "              learning_rate=0.003, max_delta_step=0, max_depth=5,\n",
              "              min_child_weight=3, missing=None, n_estimators=250, n_jobs=1,\n",
              "              nthread=None, objective='binary:logistic', random_state=0,\n",
              "              reg_alpha=0, reg_lambda=1, scale_pos_weight=1, seed=None,\n",
              "              silent=None, subsample=1, verbosity=1)"
            ]
          },
          "metadata": {
            "tags": []
          },
          "execution_count": 38
        }
      ]
    },
    {
      "cell_type": "code",
      "metadata": {
        "colab": {
          "base_uri": "https://localhost:8080/",
          "height": 769
        },
        "id": "bdgwtRSw2afV",
        "outputId": "6878be03-06f4-422f-f9f0-6959168cabe8"
      },
      "source": [
        "shap_graphs(xgb_clf, X)"
      ],
      "execution_count": 39,
      "outputs": [
        {
          "output_type": "display_data",
          "data": {
            "image/png": "[encoded data removed]",
            "text/plain": [
              "<Figure size 576x468 with 1 Axes>"
            ]
          },
          "metadata": {
            "tags": []
          }
        },
        {
          "output_type": "display_data",
          "data": {
            "image/png": "[encoded data removed]",
            "text/plain": [
              "<Figure size 576x396 with 2 Axes>"
            ]
          },
          "metadata": {
            "tags": [],
            "needs_background": "light"
          }
        }
      ]
    },
    {
      "cell_type": "markdown",
      "metadata": {
        "id": "ahp_2tZK2q5V"
      },
      "source": [
        "The most contributing factor towards target prediction is the attribute followers. As we can see from the shap beeswarm plot, genreally artists wiht mode followers tend to decrease the predictions. In this case this means that for a song to be predicted as dance pop, the value of artist followers would generally be lower with respect to non dance pop songs.\n",
        "Artist is the next most important attribute. Since the encoding does not have any particular meaning the shap plot is random, but generally one artist make songs from a small number of genres, so this is expected. Next we can see that higer values of danceability dan loudness are associated wiht dance pop songs."
      ]
    },
    {
      "cell_type": "markdown",
      "metadata": {
        "id": "JsVDZwF43u-I"
      },
      "source": [
        "<h1>2. Artificial Neural Network</h1>"
      ]
    },
    {
      "cell_type": "code",
      "metadata": {
        "id": "sd4w-voD3s46"
      },
      "source": [
        "model = Sequential()\n",
        "model.add(Dense(32, input_dim=len(X.columns), kernel_initializer = 'uniform', activation='relu'))\n",
        "model.add(Dense(1, kernel_initializer = 'uniform',activation='sigmoid'))"
      ],
      "execution_count": 47,
      "outputs": []
    },
    {
      "cell_type": "code",
      "metadata": {
        "id": "FT1aYVuq4ORG"
      },
      "source": [
        "model.compile(loss='binary_crossentropy', optimizer='adam', metrics=['binary_crossentropy']) "
      ],
      "execution_count": 57,
      "outputs": []
    },
    {
      "cell_type": "code",
      "metadata": {
        "colab": {
          "base_uri": "https://localhost:8080/"
        },
        "id": "ZjDMm7j34Vjg",
        "outputId": "c4f2e6f2-e544-413e-c634-e22ed87bfd92"
      },
      "source": [
        "pred_ann, actual_ann = cross_validation_model(X, Y, model)"
      ],
      "execution_count": 61,
      "outputs": [
        {
          "output_type": "stream",
          "text": [
            "17/17 [==============================] - 0s 2ms/step - loss: 0.6547 - binary_crossentropy: 0.6547 - auc: 0.0000e+00\n",
            "17/17 [==============================] - 0s 2ms/step - loss: 0.6375 - binary_crossentropy: 0.6375 - auc: 0.0000e+00\n",
            "17/17 [==============================] - 0s 2ms/step - loss: 0.6439 - binary_crossentropy: 0.6439 - auc: 0.0000e+00\n",
            "17/17 [==============================] - 0s 1ms/step - loss: 0.6456 - binary_crossentropy: 0.6456 - auc: 0.0000e+00\n",
            "17/17 [==============================] - 0s 2ms/step - loss: 0.6422 - binary_crossentropy: 0.6422 - auc: 0.0000e+00\n"
          ],
          "name": "stdout"
        }
      ]
    },
    {
      "cell_type": "code",
      "metadata": {
        "id": "UvWiKgwC7iha"
      },
      "source": [
        "pred_ann = np.round(pred_ann)"
      ],
      "execution_count": 68,
      "outputs": []
    },
    {
      "cell_type": "code",
      "metadata": {
        "colab": {
          "base_uri": "https://localhost:8080/",
          "height": 458
        },
        "id": "XM2Hijqc7JIq",
        "outputId": "e97d002c-1e8b-4fc8-a5fd-88465c334c98"
      },
      "source": [
        "plt.figure(figsize=(10,7))\n",
        "sns.heatmap(confusion_matrix(actual_ann, pred_ann), annot=True, fmt='.5g')\n",
        "plt.xlabel('Actual')\n",
        "plt.ylabel('Predicted')\n",
        "plt.title('Confusion matrix cv-5 ANN')\n",
        "plt.show()"
      ],
      "execution_count": 69,
      "outputs": [
        {
          "output_type": "display_data",
          "data": {
            "image/png": "[encoded data removed]",
            "text/plain": [
              "<Figure size 720x504 with 2 Axes>"
            ]
          },
          "metadata": {
            "tags": [],
            "needs_background": "light"
          }
        }
      ]
    },
    {
      "cell_type": "code",
      "metadata": {
        "colab": {
          "base_uri": "https://localhost:8080/"
        },
        "id": "j2S29ZQg7f5J",
        "outputId": "1b935927-b20e-454f-cc50-e421da6a4620"
      },
      "source": [
        "print(classification_report(actual_ann, pred_ann))"
      ],
      "execution_count": 70,
      "outputs": [
        {
          "output_type": "stream",
          "text": [
            "              precision    recall  f1-score   support\n",
            "\n",
            "           0       0.70      0.54      0.61       315\n",
            "           1       0.64      0.78      0.71       337\n",
            "\n",
            "    accuracy                           0.66       652\n",
            "   macro avg       0.67      0.66      0.66       652\n",
            "weighted avg       0.67      0.66      0.66       652\n",
            "\n"
          ],
          "name": "stdout"
        }
      ]
    },
    {
      "cell_type": "code",
      "metadata": {
        "colab": {
          "base_uri": "https://localhost:8080/",
          "height": 312
        },
        "id": "Iocmehxz7qos",
        "outputId": "5a800ab5-a172-4cf1-fb94-044cedac534a"
      },
      "source": [
        "draw_roc_curve(actual_ann, pred_ann)"
      ],
      "execution_count": 71,
      "outputs": [
        {
          "output_type": "stream",
          "text": [
            "Roc auc score: 0.6584616833874994\n"
          ],
          "name": "stdout"
        },
        {
          "output_type": "display_data",
          "data": {
            "image/png": "[encoded data removed]",
            "text/plain": [
              "<Figure size 432x288 with 1 Axes>"
            ]
          },
          "metadata": {
            "tags": [],
            "needs_background": "light"
          }
        }
      ]
    },
    {
      "cell_type": "markdown",
      "metadata": {
        "id": "EYx-A2ry7vqn"
      },
      "source": [
        "Let's try the same network but with a sigmoid activation in the hidden layer."
      ]
    },
    {
      "cell_type": "code",
      "metadata": {
        "id": "Vw5ygkQ372cD"
      },
      "source": [
        "model = Sequential()\n",
        "model.add(Dense(32, input_dim=len(X.columns), kernel_initializer = 'uniform', activation='sigmoid'))\n",
        "model.add(Dense(1, kernel_initializer = 'uniform',activation='sigmoid'))"
      ],
      "execution_count": 72,
      "outputs": []
    },
    {
      "cell_type": "code",
      "metadata": {
        "id": "yCdBMG-k760Q"
      },
      "source": [
        "model.compile(loss='binary_crossentropy', optimizer='adam', metrics=['binary_crossentropy']) "
      ],
      "execution_count": 73,
      "outputs": []
    },
    {
      "cell_type": "code",
      "metadata": {
        "colab": {
          "base_uri": "https://localhost:8080/"
        },
        "id": "-JzpKGaB78iF",
        "outputId": "30567050-ba05-4b5f-b7ac-32b24de89779"
      },
      "source": [
        "pred_ann_sig, actual_ann_sig = cross_validation_model(X, Y, model)"
      ],
      "execution_count": 74,
      "outputs": [
        {
          "output_type": "stream",
          "text": [
            "17/17 [==============================] - 0s 2ms/step - loss: 0.6940 - binary_crossentropy: 0.6940\n",
            "17/17 [==============================] - 0s 2ms/step - loss: 0.6926 - binary_crossentropy: 0.6926\n",
            "17/17 [==============================] - 0s 2ms/step - loss: 0.6894 - binary_crossentropy: 0.6894\n",
            "17/17 [==============================] - 0s 2ms/step - loss: 0.6919 - binary_crossentropy: 0.6919\n",
            "17/17 [==============================] - 0s 1ms/step - loss: 0.6931 - binary_crossentropy: 0.6931\n"
          ],
          "name": "stdout"
        }
      ]
    },
    {
      "cell_type": "code",
      "metadata": {
        "id": "SLn1TRZ08AXq"
      },
      "source": [
        "pred_ann_sig = np.round(pred_ann_sig)"
      ],
      "execution_count": 75,
      "outputs": []
    },
    {
      "cell_type": "code",
      "metadata": {
        "colab": {
          "base_uri": "https://localhost:8080/",
          "height": 458
        },
        "id": "8_kl4PXV8EJE",
        "outputId": "a66144d1-e071-48ef-896e-dd9617eb4fd7"
      },
      "source": [
        "plt.figure(figsize=(10,7))\n",
        "sns.heatmap(confusion_matrix(actual_ann_sig, pred_ann_sig), annot=True, fmt='.5g')\n",
        "plt.xlabel('Actual')\n",
        "plt.ylabel('Predicted')\n",
        "plt.title('Confusion matrix cv-5 ANN')\n",
        "plt.show()"
      ],
      "execution_count": 76,
      "outputs": [
        {
          "output_type": "display_data",
          "data": {
            "image/png": "[encoded data removed]",
            "text/plain": [
              "<Figure size 720x504 with 2 Axes>"
            ]
          },
          "metadata": {
            "tags": [],
            "needs_background": "light"
          }
        }
      ]
    },
    {
      "cell_type": "code",
      "metadata": {
        "colab": {
          "base_uri": "https://localhost:8080/"
        },
        "id": "II8g-qCi8HHc",
        "outputId": "3078d521-96ba-4083-fcea-29cfab1a23fc"
      },
      "source": [
        "print(classification_report(actual_ann_sig, pred_ann_sig))"
      ],
      "execution_count": 78,
      "outputs": [
        {
          "output_type": "stream",
          "text": [
            "              precision    recall  f1-score   support\n",
            "\n",
            "           0       0.71      0.03      0.06       315\n",
            "           1       0.52      0.99      0.68       337\n",
            "\n",
            "    accuracy                           0.53       652\n",
            "   macro avg       0.62      0.51      0.37       652\n",
            "weighted avg       0.61      0.53      0.38       652\n",
            "\n"
          ],
          "name": "stdout"
        }
      ]
    },
    {
      "cell_type": "code",
      "metadata": {
        "colab": {
          "base_uri": "https://localhost:8080/",
          "height": 312
        },
        "id": "jhRagd868NwV",
        "outputId": "1a2b68cb-628a-4e12-a339-b07960cd5c14"
      },
      "source": [
        "draw_roc_curve(actual_ann_sig, pred_ann_sig)"
      ],
      "execution_count": 80,
      "outputs": [
        {
          "output_type": "stream",
          "text": [
            "Roc auc score: 0.5099382977721257\n"
          ],
          "name": "stdout"
        },
        {
          "output_type": "display_data",
          "data": {
            "image/png": "[encoded data removed]",
            "text/plain": [
              "<Figure size 432x288 with 1 Axes>"
            ]
          },
          "metadata": {
            "tags": [],
            "needs_background": "light"
          }
        }
      ]
    },
    {
      "cell_type": "markdown",
      "metadata": {
        "id": "Eh3pKlJK8SeQ"
      },
      "source": [
        "This network corresponds to random guessing."
      ]
    },
    {
      "cell_type": "markdown",
      "metadata": {
        "id": "QolCMOdn8WBi"
      },
      "source": [
        "<h1>3. Deep neural network</h1>"
      ]
    },
    {
      "cell_type": "code",
      "metadata": {
        "id": "Zi5R5k0G8ZYq"
      },
      "source": [
        "model = Sequential()\n",
        "model.add(Dense(64, input_dim=len(X.columns), kernel_initializer = 'uniform', activation='relu'))\n",
        "model.add(Dense(32, kernel_initializer = 'uniform', activation='relu'))\n",
        "model.add(Dropout(0.6))\n",
        "model.add(Dense(16, kernel_initializer = 'uniform', activation='relu'))\n",
        "model.add(Dropout(0.6))\n",
        "model.add(Dense(8, kernel_initializer = 'uniform', activation='relu'))\n",
        "model.add(Dense(1, kernel_initializer = 'uniform',activation='sigmoid'))"
      ],
      "execution_count": 221,
      "outputs": []
    },
    {
      "cell_type": "code",
      "metadata": {
        "id": "fRK15EEp8hsj"
      },
      "source": [
        "opt = tensorflow.keras.optimizers.Adam(learning_rate=0.001)\n",
        "model.compile(loss='binary_crossentropy', optimizer=opt, metrics=['accuracy']) "
      ],
      "execution_count": 222,
      "outputs": []
    },
    {
      "cell_type": "code",
      "metadata": {
        "colab": {
          "base_uri": "https://localhost:8080/"
        },
        "id": "Vi-jyrs48jUp",
        "outputId": "4afecfdf-0bc0-405c-cd74-c59ef6b6527a"
      },
      "source": [
        "history = model.fit(X_train, Y_train, batch_size=32, epochs=200, validation_split=0.15)"
      ],
      "execution_count": 223,
      "outputs": [
        {
          "output_type": "stream",
          "text": [
            "Epoch 1/200\n",
            "14/14 [==============================] - 1s 15ms/step - loss: 0.6933 - accuracy: 0.4819 - val_loss: 0.6932 - val_accuracy: 0.4810\n",
            "Epoch 2/200\n",
            "14/14 [==============================] - 0s 3ms/step - loss: 0.6933 - accuracy: 0.4910 - val_loss: 0.6932 - val_accuracy: 0.4810\n",
            "Epoch 3/200\n",
            "14/14 [==============================] - 0s 3ms/step - loss: 0.6930 - accuracy: 0.5226 - val_loss: 0.6932 - val_accuracy: 0.4810\n",
            "Epoch 4/200\n",
            "14/14 [==============================] - 0s 4ms/step - loss: 0.6939 - accuracy: 0.5090 - val_loss: 0.6937 - val_accuracy: 0.4810\n",
            "Epoch 5/200\n",
            "14/14 [==============================] - 0s 3ms/step - loss: 0.6929 - accuracy: 0.5181 - val_loss: 0.6938 - val_accuracy: 0.4810\n",
            "Epoch 6/200\n",
            "14/14 [==============================] - 0s 3ms/step - loss: 0.6926 - accuracy: 0.5113 - val_loss: 0.6937 - val_accuracy: 0.4810\n",
            "Epoch 7/200\n",
            "14/14 [==============================] - 0s 3ms/step - loss: 0.6921 - accuracy: 0.5136 - val_loss: 0.6936 - val_accuracy: 0.4810\n",
            "Epoch 8/200\n",
            "14/14 [==============================] - 0s 3ms/step - loss: 0.6922 - accuracy: 0.5136 - val_loss: 0.6936 - val_accuracy: 0.4810\n",
            "Epoch 9/200\n",
            "14/14 [==============================] - 0s 3ms/step - loss: 0.6944 - accuracy: 0.5136 - val_loss: 0.6934 - val_accuracy: 0.4810\n",
            "Epoch 10/200\n",
            "14/14 [==============================] - 0s 4ms/step - loss: 0.6894 - accuracy: 0.5136 - val_loss: 0.6940 - val_accuracy: 0.4810\n",
            "Epoch 11/200\n",
            "14/14 [==============================] - 0s 3ms/step - loss: 0.6909 - accuracy: 0.5136 - val_loss: 0.6948 - val_accuracy: 0.4810\n",
            "Epoch 12/200\n",
            "14/14 [==============================] - 0s 3ms/step - loss: 0.6973 - accuracy: 0.5158 - val_loss: 0.6934 - val_accuracy: 0.4810\n",
            "Epoch 13/200\n",
            "14/14 [==============================] - 0s 3ms/step - loss: 0.6926 - accuracy: 0.5136 - val_loss: 0.6933 - val_accuracy: 0.4810\n",
            "Epoch 14/200\n",
            "14/14 [==============================] - 0s 4ms/step - loss: 0.6932 - accuracy: 0.5136 - val_loss: 0.6933 - val_accuracy: 0.4810\n",
            "Epoch 15/200\n",
            "14/14 [==============================] - 0s 3ms/step - loss: 0.6919 - accuracy: 0.5136 - val_loss: 0.6934 - val_accuracy: 0.4810\n",
            "Epoch 16/200\n",
            "14/14 [==============================] - 0s 4ms/step - loss: 0.6925 - accuracy: 0.5136 - val_loss: 0.6935 - val_accuracy: 0.4810\n",
            "Epoch 17/200\n",
            "14/14 [==============================] - 0s 4ms/step - loss: 0.6929 - accuracy: 0.5158 - val_loss: 0.6933 - val_accuracy: 0.4810\n",
            "Epoch 18/200\n",
            "14/14 [==============================] - 0s 3ms/step - loss: 0.6922 - accuracy: 0.5090 - val_loss: 0.6934 - val_accuracy: 0.4810\n",
            "Epoch 19/200\n",
            "14/14 [==============================] - 0s 3ms/step - loss: 0.6910 - accuracy: 0.5136 - val_loss: 0.6934 - val_accuracy: 0.4810\n",
            "Epoch 20/200\n",
            "14/14 [==============================] - 0s 3ms/step - loss: 0.6939 - accuracy: 0.5136 - val_loss: 0.6934 - val_accuracy: 0.4810\n",
            "Epoch 21/200\n",
            "14/14 [==============================] - 0s 3ms/step - loss: 0.6912 - accuracy: 0.5136 - val_loss: 0.6929 - val_accuracy: 0.4810\n",
            "Epoch 22/200\n",
            "14/14 [==============================] - 0s 3ms/step - loss: 0.6908 - accuracy: 0.5136 - val_loss: 0.6927 - val_accuracy: 0.4810\n",
            "Epoch 23/200\n",
            "14/14 [==============================] - 0s 3ms/step - loss: 0.6877 - accuracy: 0.5136 - val_loss: 0.6927 - val_accuracy: 0.4810\n",
            "Epoch 24/200\n",
            "14/14 [==============================] - 0s 3ms/step - loss: 0.6822 - accuracy: 0.5136 - val_loss: 0.6917 - val_accuracy: 0.4810\n",
            "Epoch 25/200\n",
            "14/14 [==============================] - 0s 3ms/step - loss: 0.6853 - accuracy: 0.5136 - val_loss: 0.6892 - val_accuracy: 0.4810\n",
            "Epoch 26/200\n",
            "14/14 [==============================] - 0s 3ms/step - loss: 0.6893 - accuracy: 0.5136 - val_loss: 0.6872 - val_accuracy: 0.5696\n",
            "Epoch 27/200\n",
            "14/14 [==============================] - 0s 3ms/step - loss: 0.6837 - accuracy: 0.6131 - val_loss: 0.6869 - val_accuracy: 0.5316\n",
            "Epoch 28/200\n",
            "14/14 [==============================] - 0s 3ms/step - loss: 0.6834 - accuracy: 0.5837 - val_loss: 0.6843 - val_accuracy: 0.5823\n",
            "Epoch 29/200\n",
            "14/14 [==============================] - 0s 4ms/step - loss: 0.6850 - accuracy: 0.6041 - val_loss: 0.6841 - val_accuracy: 0.5443\n",
            "Epoch 30/200\n",
            "14/14 [==============================] - 0s 4ms/step - loss: 0.6942 - accuracy: 0.5385 - val_loss: 0.6919 - val_accuracy: 0.5443\n",
            "Epoch 31/200\n",
            "14/14 [==============================] - 0s 4ms/step - loss: 0.6851 - accuracy: 0.5588 - val_loss: 0.6862 - val_accuracy: 0.5443\n",
            "Epoch 32/200\n",
            "14/14 [==============================] - 0s 4ms/step - loss: 0.6823 - accuracy: 0.5769 - val_loss: 0.6841 - val_accuracy: 0.5823\n",
            "Epoch 33/200\n",
            "14/14 [==============================] - 0s 4ms/step - loss: 0.6806 - accuracy: 0.6290 - val_loss: 0.6841 - val_accuracy: 0.5443\n",
            "Epoch 34/200\n",
            "14/14 [==============================] - 0s 3ms/step - loss: 0.6802 - accuracy: 0.6176 - val_loss: 0.6822 - val_accuracy: 0.5696\n",
            "Epoch 35/200\n",
            "14/14 [==============================] - 0s 3ms/step - loss: 0.6781 - accuracy: 0.6335 - val_loss: 0.6805 - val_accuracy: 0.5823\n",
            "Epoch 36/200\n",
            "14/14 [==============================] - 0s 3ms/step - loss: 0.6805 - accuracy: 0.6176 - val_loss: 0.6813 - val_accuracy: 0.6835\n",
            "Epoch 37/200\n",
            "14/14 [==============================] - 0s 3ms/step - loss: 0.6890 - accuracy: 0.5588 - val_loss: 0.6870 - val_accuracy: 0.5823\n",
            "Epoch 38/200\n",
            "14/14 [==============================] - 0s 3ms/step - loss: 0.6845 - accuracy: 0.5973 - val_loss: 0.6807 - val_accuracy: 0.5570\n",
            "Epoch 39/200\n",
            "14/14 [==============================] - 0s 3ms/step - loss: 0.6830 - accuracy: 0.6312 - val_loss: 0.6793 - val_accuracy: 0.5949\n",
            "Epoch 40/200\n",
            "14/14 [==============================] - 0s 4ms/step - loss: 0.6817 - accuracy: 0.6538 - val_loss: 0.6797 - val_accuracy: 0.5696\n",
            "Epoch 41/200\n",
            "14/14 [==============================] - 0s 3ms/step - loss: 0.6754 - accuracy: 0.6674 - val_loss: 0.6779 - val_accuracy: 0.5949\n",
            "Epoch 42/200\n",
            "14/14 [==============================] - 0s 3ms/step - loss: 0.6620 - accuracy: 0.6652 - val_loss: 0.6782 - val_accuracy: 0.5696\n",
            "Epoch 43/200\n",
            "14/14 [==============================] - 0s 3ms/step - loss: 0.6754 - accuracy: 0.6448 - val_loss: 0.6737 - val_accuracy: 0.6456\n",
            "Epoch 44/200\n",
            "14/14 [==============================] - 0s 3ms/step - loss: 0.6780 - accuracy: 0.6471 - val_loss: 0.6762 - val_accuracy: 0.5823\n",
            "Epoch 45/200\n",
            "14/14 [==============================] - 0s 3ms/step - loss: 0.6728 - accuracy: 0.6357 - val_loss: 0.6769 - val_accuracy: 0.5823\n",
            "Epoch 46/200\n",
            "14/14 [==============================] - 0s 3ms/step - loss: 0.6717 - accuracy: 0.6290 - val_loss: 0.6752 - val_accuracy: 0.5696\n",
            "Epoch 47/200\n",
            "14/14 [==============================] - 0s 4ms/step - loss: 0.6709 - accuracy: 0.6448 - val_loss: 0.6716 - val_accuracy: 0.6456\n",
            "Epoch 48/200\n",
            "14/14 [==============================] - 0s 5ms/step - loss: 0.6715 - accuracy: 0.6765 - val_loss: 0.6767 - val_accuracy: 0.5570\n",
            "Epoch 49/200\n",
            "14/14 [==============================] - 0s 4ms/step - loss: 0.6668 - accuracy: 0.6357 - val_loss: 0.6716 - val_accuracy: 0.6709\n",
            "Epoch 50/200\n",
            "14/14 [==============================] - 0s 4ms/step - loss: 0.6691 - accuracy: 0.6516 - val_loss: 0.6722 - val_accuracy: 0.5823\n",
            "Epoch 51/200\n",
            "14/14 [==============================] - 0s 3ms/step - loss: 0.6752 - accuracy: 0.6493 - val_loss: 0.6730 - val_accuracy: 0.5823\n",
            "Epoch 52/200\n",
            "14/14 [==============================] - 0s 3ms/step - loss: 0.6738 - accuracy: 0.6222 - val_loss: 0.6737 - val_accuracy: 0.5949\n",
            "Epoch 53/200\n",
            "14/14 [==============================] - 0s 3ms/step - loss: 0.6771 - accuracy: 0.6561 - val_loss: 0.6732 - val_accuracy: 0.5696\n",
            "Epoch 54/200\n",
            "14/14 [==============================] - 0s 3ms/step - loss: 0.6615 - accuracy: 0.6652 - val_loss: 0.6730 - val_accuracy: 0.5696\n",
            "Epoch 55/200\n",
            "14/14 [==============================] - 0s 3ms/step - loss: 0.6716 - accuracy: 0.6652 - val_loss: 0.6718 - val_accuracy: 0.6329\n",
            "Epoch 56/200\n",
            "14/14 [==============================] - 0s 3ms/step - loss: 0.6547 - accuracy: 0.6810 - val_loss: 0.6769 - val_accuracy: 0.5696\n",
            "Epoch 57/200\n",
            "14/14 [==============================] - 0s 3ms/step - loss: 0.6703 - accuracy: 0.6244 - val_loss: 0.6770 - val_accuracy: 0.6076\n",
            "Epoch 58/200\n",
            "14/14 [==============================] - 0s 4ms/step - loss: 0.6692 - accuracy: 0.6357 - val_loss: 0.6720 - val_accuracy: 0.5823\n",
            "Epoch 59/200\n",
            "14/14 [==============================] - 0s 3ms/step - loss: 0.6688 - accuracy: 0.6516 - val_loss: 0.6723 - val_accuracy: 0.6329\n",
            "Epoch 60/200\n",
            "14/14 [==============================] - 0s 4ms/step - loss: 0.6723 - accuracy: 0.6199 - val_loss: 0.6709 - val_accuracy: 0.6456\n",
            "Epoch 61/200\n",
            "14/14 [==============================] - 0s 4ms/step - loss: 0.6635 - accuracy: 0.6425 - val_loss: 0.6702 - val_accuracy: 0.6329\n",
            "Epoch 62/200\n",
            "14/14 [==============================] - 0s 5ms/step - loss: 0.6742 - accuracy: 0.6425 - val_loss: 0.6703 - val_accuracy: 0.6456\n",
            "Epoch 63/200\n",
            "14/14 [==============================] - 0s 3ms/step - loss: 0.6688 - accuracy: 0.6516 - val_loss: 0.6677 - val_accuracy: 0.6456\n",
            "Epoch 64/200\n",
            "14/14 [==============================] - 0s 3ms/step - loss: 0.6652 - accuracy: 0.6516 - val_loss: 0.6684 - val_accuracy: 0.6329\n",
            "Epoch 65/200\n",
            "14/14 [==============================] - 0s 3ms/step - loss: 0.6623 - accuracy: 0.6448 - val_loss: 0.6672 - val_accuracy: 0.6329\n",
            "Epoch 66/200\n",
            "14/14 [==============================] - 0s 3ms/step - loss: 0.6663 - accuracy: 0.6312 - val_loss: 0.6672 - val_accuracy: 0.6203\n",
            "Epoch 67/200\n",
            "14/14 [==============================] - 0s 3ms/step - loss: 0.6636 - accuracy: 0.6403 - val_loss: 0.6674 - val_accuracy: 0.6582\n",
            "Epoch 68/200\n",
            "14/14 [==============================] - 0s 4ms/step - loss: 0.6623 - accuracy: 0.6312 - val_loss: 0.6681 - val_accuracy: 0.5949\n",
            "Epoch 69/200\n",
            "14/14 [==============================] - 0s 3ms/step - loss: 0.6693 - accuracy: 0.6471 - val_loss: 0.6602 - val_accuracy: 0.6203\n",
            "Epoch 70/200\n",
            "14/14 [==============================] - 0s 3ms/step - loss: 0.6528 - accuracy: 0.6471 - val_loss: 0.6581 - val_accuracy: 0.5949\n",
            "Epoch 71/200\n",
            "14/14 [==============================] - 0s 3ms/step - loss: 0.6628 - accuracy: 0.6290 - val_loss: 0.6536 - val_accuracy: 0.6582\n",
            "Epoch 72/200\n",
            "14/14 [==============================] - 0s 3ms/step - loss: 0.6404 - accuracy: 0.6561 - val_loss: 0.6516 - val_accuracy: 0.6456\n",
            "Epoch 73/200\n",
            "14/14 [==============================] - 0s 3ms/step - loss: 0.6785 - accuracy: 0.6109 - val_loss: 0.6601 - val_accuracy: 0.5823\n",
            "Epoch 74/200\n",
            "14/14 [==============================] - 0s 4ms/step - loss: 0.6544 - accuracy: 0.6063 - val_loss: 0.6561 - val_accuracy: 0.6582\n",
            "Epoch 75/200\n",
            "14/14 [==============================] - 0s 3ms/step - loss: 0.6382 - accuracy: 0.6425 - val_loss: 0.6521 - val_accuracy: 0.6203\n",
            "Epoch 76/200\n",
            "14/14 [==============================] - 0s 4ms/step - loss: 0.6378 - accuracy: 0.6425 - val_loss: 0.6499 - val_accuracy: 0.5949\n",
            "Epoch 77/200\n",
            "14/14 [==============================] - 0s 3ms/step - loss: 0.6475 - accuracy: 0.6380 - val_loss: 0.6555 - val_accuracy: 0.6456\n",
            "Epoch 78/200\n",
            "14/14 [==============================] - 0s 4ms/step - loss: 0.6530 - accuracy: 0.6538 - val_loss: 0.6525 - val_accuracy: 0.5949\n",
            "Epoch 79/200\n",
            "14/14 [==============================] - 0s 3ms/step - loss: 0.6379 - accuracy: 0.6606 - val_loss: 0.6528 - val_accuracy: 0.5823\n",
            "Epoch 80/200\n",
            "14/14 [==============================] - 0s 4ms/step - loss: 0.6293 - accuracy: 0.6516 - val_loss: 0.6513 - val_accuracy: 0.6709\n",
            "Epoch 81/200\n",
            "14/14 [==============================] - 0s 5ms/step - loss: 0.6378 - accuracy: 0.6493 - val_loss: 0.6545 - val_accuracy: 0.6329\n",
            "Epoch 82/200\n",
            "14/14 [==============================] - 0s 5ms/step - loss: 0.6279 - accuracy: 0.6878 - val_loss: 0.6532 - val_accuracy: 0.6329\n",
            "Epoch 83/200\n",
            "14/14 [==============================] - 0s 3ms/step - loss: 0.6422 - accuracy: 0.6516 - val_loss: 0.6485 - val_accuracy: 0.6329\n",
            "Epoch 84/200\n",
            "14/14 [==============================] - 0s 3ms/step - loss: 0.6316 - accuracy: 0.6719 - val_loss: 0.6538 - val_accuracy: 0.6076\n",
            "Epoch 85/200\n",
            "14/14 [==============================] - 0s 4ms/step - loss: 0.6094 - accuracy: 0.6629 - val_loss: 0.6540 - val_accuracy: 0.6329\n",
            "Epoch 86/200\n",
            "14/14 [==============================] - 0s 3ms/step - loss: 0.6299 - accuracy: 0.6674 - val_loss: 0.6474 - val_accuracy: 0.5949\n",
            "Epoch 87/200\n",
            "14/14 [==============================] - 0s 4ms/step - loss: 0.6409 - accuracy: 0.6448 - val_loss: 0.6561 - val_accuracy: 0.6329\n",
            "Epoch 88/200\n",
            "14/14 [==============================] - 0s 3ms/step - loss: 0.6268 - accuracy: 0.6403 - val_loss: 0.6522 - val_accuracy: 0.6329\n",
            "Epoch 89/200\n",
            "14/14 [==============================] - 0s 4ms/step - loss: 0.6271 - accuracy: 0.6629 - val_loss: 0.6496 - val_accuracy: 0.6203\n",
            "Epoch 90/200\n",
            "14/14 [==============================] - 0s 3ms/step - loss: 0.6219 - accuracy: 0.6787 - val_loss: 0.6531 - val_accuracy: 0.6203\n",
            "Epoch 91/200\n",
            "14/14 [==============================] - 0s 3ms/step - loss: 0.6322 - accuracy: 0.6787 - val_loss: 0.6539 - val_accuracy: 0.6203\n",
            "Epoch 92/200\n",
            "14/14 [==============================] - 0s 3ms/step - loss: 0.6363 - accuracy: 0.6674 - val_loss: 0.6521 - val_accuracy: 0.6203\n",
            "Epoch 93/200\n",
            "14/14 [==============================] - 0s 4ms/step - loss: 0.6117 - accuracy: 0.6629 - val_loss: 0.6589 - val_accuracy: 0.6203\n",
            "Epoch 94/200\n",
            "14/14 [==============================] - 0s 3ms/step - loss: 0.6126 - accuracy: 0.6855 - val_loss: 0.6599 - val_accuracy: 0.6329\n",
            "Epoch 95/200\n",
            "14/14 [==============================] - 0s 3ms/step - loss: 0.6142 - accuracy: 0.6606 - val_loss: 0.6520 - val_accuracy: 0.5696\n",
            "Epoch 96/200\n",
            "14/14 [==============================] - 0s 3ms/step - loss: 0.6439 - accuracy: 0.6403 - val_loss: 0.6508 - val_accuracy: 0.6329\n",
            "Epoch 97/200\n",
            "14/14 [==============================] - 0s 3ms/step - loss: 0.6243 - accuracy: 0.6561 - val_loss: 0.6545 - val_accuracy: 0.6203\n",
            "Epoch 98/200\n",
            "14/14 [==============================] - 0s 3ms/step - loss: 0.6229 - accuracy: 0.6923 - val_loss: 0.6496 - val_accuracy: 0.5949\n",
            "Epoch 99/200\n",
            "14/14 [==============================] - 0s 4ms/step - loss: 0.6505 - accuracy: 0.6765 - val_loss: 0.6473 - val_accuracy: 0.6329\n",
            "Epoch 100/200\n",
            "14/14 [==============================] - 0s 3ms/step - loss: 0.6300 - accuracy: 0.6448 - val_loss: 0.6475 - val_accuracy: 0.6329\n",
            "Epoch 101/200\n",
            "14/14 [==============================] - 0s 3ms/step - loss: 0.6229 - accuracy: 0.6357 - val_loss: 0.6477 - val_accuracy: 0.6456\n",
            "Epoch 102/200\n",
            "14/14 [==============================] - 0s 3ms/step - loss: 0.6740 - accuracy: 0.5950 - val_loss: 0.6533 - val_accuracy: 0.6203\n",
            "Epoch 103/200\n",
            "14/14 [==============================] - 0s 5ms/step - loss: 0.6580 - accuracy: 0.6041 - val_loss: 0.6593 - val_accuracy: 0.5443\n",
            "Epoch 104/200\n",
            "14/14 [==============================] - 0s 3ms/step - loss: 0.6288 - accuracy: 0.6561 - val_loss: 0.6553 - val_accuracy: 0.6076\n",
            "Epoch 105/200\n",
            "14/14 [==============================] - 0s 4ms/step - loss: 0.6378 - accuracy: 0.6290 - val_loss: 0.6528 - val_accuracy: 0.6456\n",
            "Epoch 106/200\n",
            "14/14 [==============================] - 0s 3ms/step - loss: 0.6136 - accuracy: 0.6674 - val_loss: 0.6540 - val_accuracy: 0.6456\n",
            "Epoch 107/200\n",
            "14/14 [==============================] - 0s 4ms/step - loss: 0.6236 - accuracy: 0.6629 - val_loss: 0.6554 - val_accuracy: 0.6329\n",
            "Epoch 108/200\n",
            "14/14 [==============================] - 0s 3ms/step - loss: 0.6190 - accuracy: 0.6855 - val_loss: 0.6564 - val_accuracy: 0.6076\n",
            "Epoch 109/200\n",
            "14/14 [==============================] - 0s 3ms/step - loss: 0.6097 - accuracy: 0.6765 - val_loss: 0.6541 - val_accuracy: 0.6456\n",
            "Epoch 110/200\n",
            "14/14 [==============================] - 0s 4ms/step - loss: 0.6211 - accuracy: 0.6855 - val_loss: 0.6500 - val_accuracy: 0.6456\n",
            "Epoch 111/200\n",
            "14/14 [==============================] - 0s 3ms/step - loss: 0.6396 - accuracy: 0.6606 - val_loss: 0.6457 - val_accuracy: 0.6456\n",
            "Epoch 112/200\n",
            "14/14 [==============================] - 0s 4ms/step - loss: 0.6191 - accuracy: 0.7059 - val_loss: 0.6490 - val_accuracy: 0.6203\n",
            "Epoch 113/200\n",
            "14/14 [==============================] - 0s 3ms/step - loss: 0.6111 - accuracy: 0.6878 - val_loss: 0.6511 - val_accuracy: 0.6076\n",
            "Epoch 114/200\n",
            "14/14 [==============================] - 0s 4ms/step - loss: 0.6252 - accuracy: 0.6742 - val_loss: 0.6482 - val_accuracy: 0.6076\n",
            "Epoch 115/200\n",
            "14/14 [==============================] - 0s 6ms/step - loss: 0.6123 - accuracy: 0.6652 - val_loss: 0.6555 - val_accuracy: 0.6329\n",
            "Epoch 116/200\n",
            "14/14 [==============================] - 0s 4ms/step - loss: 0.6245 - accuracy: 0.6697 - val_loss: 0.6575 - val_accuracy: 0.6456\n",
            "Epoch 117/200\n",
            "14/14 [==============================] - 0s 3ms/step - loss: 0.5864 - accuracy: 0.6878 - val_loss: 0.6648 - val_accuracy: 0.6203\n",
            "Epoch 118/200\n",
            "14/14 [==============================] - 0s 4ms/step - loss: 0.6183 - accuracy: 0.6810 - val_loss: 0.6678 - val_accuracy: 0.6456\n",
            "Epoch 119/200\n",
            "14/14 [==============================] - 0s 3ms/step - loss: 0.6145 - accuracy: 0.6561 - val_loss: 0.6546 - val_accuracy: 0.6203\n",
            "Epoch 120/200\n",
            "14/14 [==============================] - 0s 3ms/step - loss: 0.6017 - accuracy: 0.6878 - val_loss: 0.6631 - val_accuracy: 0.5949\n",
            "Epoch 121/200\n",
            "14/14 [==============================] - 0s 4ms/step - loss: 0.6100 - accuracy: 0.6855 - val_loss: 0.6705 - val_accuracy: 0.6456\n",
            "Epoch 122/200\n",
            "14/14 [==============================] - 0s 3ms/step - loss: 0.6182 - accuracy: 0.6697 - val_loss: 0.6650 - val_accuracy: 0.6456\n",
            "Epoch 123/200\n",
            "14/14 [==============================] - 0s 5ms/step - loss: 0.6381 - accuracy: 0.6833 - val_loss: 0.6496 - val_accuracy: 0.6076\n",
            "Epoch 124/200\n",
            "14/14 [==============================] - 0s 3ms/step - loss: 0.6196 - accuracy: 0.6833 - val_loss: 0.6536 - val_accuracy: 0.6456\n",
            "Epoch 125/200\n",
            "14/14 [==============================] - 0s 4ms/step - loss: 0.6185 - accuracy: 0.6606 - val_loss: 0.6571 - val_accuracy: 0.6076\n",
            "Epoch 126/200\n",
            "14/14 [==============================] - 0s 3ms/step - loss: 0.6116 - accuracy: 0.6584 - val_loss: 0.6600 - val_accuracy: 0.6329\n",
            "Epoch 127/200\n",
            "14/14 [==============================] - 0s 3ms/step - loss: 0.6111 - accuracy: 0.6833 - val_loss: 0.6578 - val_accuracy: 0.5949\n",
            "Epoch 128/200\n",
            "14/14 [==============================] - 0s 4ms/step - loss: 0.6302 - accuracy: 0.6697 - val_loss: 0.6599 - val_accuracy: 0.6076\n",
            "Epoch 129/200\n",
            "14/14 [==============================] - 0s 3ms/step - loss: 0.6017 - accuracy: 0.6900 - val_loss: 0.6527 - val_accuracy: 0.6076\n",
            "Epoch 130/200\n",
            "14/14 [==============================] - 0s 4ms/step - loss: 0.5898 - accuracy: 0.6923 - val_loss: 0.6590 - val_accuracy: 0.6076\n",
            "Epoch 131/200\n",
            "14/14 [==============================] - 0s 4ms/step - loss: 0.6224 - accuracy: 0.6516 - val_loss: 0.6541 - val_accuracy: 0.6456\n",
            "Epoch 132/200\n",
            "14/14 [==============================] - 0s 3ms/step - loss: 0.6224 - accuracy: 0.6810 - val_loss: 0.6460 - val_accuracy: 0.5949\n",
            "Epoch 133/200\n",
            "14/14 [==============================] - 0s 4ms/step - loss: 0.6239 - accuracy: 0.6516 - val_loss: 0.6458 - val_accuracy: 0.6329\n",
            "Epoch 134/200\n",
            "14/14 [==============================] - 0s 3ms/step - loss: 0.6027 - accuracy: 0.6878 - val_loss: 0.6500 - val_accuracy: 0.6203\n",
            "Epoch 135/200\n",
            "14/14 [==============================] - 0s 3ms/step - loss: 0.6062 - accuracy: 0.6878 - val_loss: 0.6558 - val_accuracy: 0.6329\n",
            "Epoch 136/200\n",
            "14/14 [==============================] - 0s 3ms/step - loss: 0.6196 - accuracy: 0.6855 - val_loss: 0.6466 - val_accuracy: 0.5823\n",
            "Epoch 137/200\n",
            "14/14 [==============================] - 0s 3ms/step - loss: 0.6059 - accuracy: 0.6923 - val_loss: 0.6423 - val_accuracy: 0.6329\n",
            "Epoch 138/200\n",
            "14/14 [==============================] - 0s 3ms/step - loss: 0.6136 - accuracy: 0.6991 - val_loss: 0.6500 - val_accuracy: 0.6582\n",
            "Epoch 139/200\n",
            "14/14 [==============================] - 0s 5ms/step - loss: 0.6041 - accuracy: 0.6765 - val_loss: 0.6468 - val_accuracy: 0.5823\n",
            "Epoch 140/200\n",
            "14/14 [==============================] - 0s 3ms/step - loss: 0.6453 - accuracy: 0.6787 - val_loss: 0.6408 - val_accuracy: 0.5949\n",
            "Epoch 141/200\n",
            "14/14 [==============================] - 0s 5ms/step - loss: 0.6404 - accuracy: 0.6357 - val_loss: 0.6530 - val_accuracy: 0.5696\n",
            "Epoch 142/200\n",
            "14/14 [==============================] - 0s 3ms/step - loss: 0.6572 - accuracy: 0.6109 - val_loss: 0.6540 - val_accuracy: 0.5949\n",
            "Epoch 143/200\n",
            "14/14 [==============================] - 0s 4ms/step - loss: 0.6230 - accuracy: 0.6833 - val_loss: 0.6480 - val_accuracy: 0.6582\n",
            "Epoch 144/200\n",
            "14/14 [==============================] - 0s 3ms/step - loss: 0.6093 - accuracy: 0.6900 - val_loss: 0.6478 - val_accuracy: 0.6456\n",
            "Epoch 145/200\n",
            "14/14 [==============================] - 0s 3ms/step - loss: 0.5971 - accuracy: 0.6810 - val_loss: 0.6516 - val_accuracy: 0.6203\n",
            "Epoch 146/200\n",
            "14/14 [==============================] - 0s 3ms/step - loss: 0.6242 - accuracy: 0.6652 - val_loss: 0.6476 - val_accuracy: 0.6076\n",
            "Epoch 147/200\n",
            "14/14 [==============================] - 0s 4ms/step - loss: 0.6001 - accuracy: 0.6787 - val_loss: 0.6502 - val_accuracy: 0.6203\n",
            "Epoch 148/200\n",
            "14/14 [==============================] - 0s 4ms/step - loss: 0.6037 - accuracy: 0.6878 - val_loss: 0.6660 - val_accuracy: 0.6203\n",
            "Epoch 149/200\n",
            "14/14 [==============================] - 0s 3ms/step - loss: 0.6202 - accuracy: 0.6855 - val_loss: 0.6528 - val_accuracy: 0.6203\n",
            "Epoch 150/200\n",
            "14/14 [==============================] - 0s 3ms/step - loss: 0.6159 - accuracy: 0.6697 - val_loss: 0.6478 - val_accuracy: 0.6076\n",
            "Epoch 151/200\n",
            "14/14 [==============================] - 0s 3ms/step - loss: 0.6181 - accuracy: 0.6584 - val_loss: 0.6588 - val_accuracy: 0.6076\n",
            "Epoch 152/200\n",
            "14/14 [==============================] - 0s 4ms/step - loss: 0.6165 - accuracy: 0.6765 - val_loss: 0.6557 - val_accuracy: 0.6076\n",
            "Epoch 153/200\n",
            "14/14 [==============================] - 0s 4ms/step - loss: 0.6056 - accuracy: 0.6742 - val_loss: 0.6404 - val_accuracy: 0.5823\n",
            "Epoch 154/200\n",
            "14/14 [==============================] - 0s 4ms/step - loss: 0.5989 - accuracy: 0.6629 - val_loss: 0.6508 - val_accuracy: 0.6203\n",
            "Epoch 155/200\n",
            "14/14 [==============================] - 0s 3ms/step - loss: 0.6015 - accuracy: 0.6855 - val_loss: 0.6521 - val_accuracy: 0.5823\n",
            "Epoch 156/200\n",
            "14/14 [==============================] - 0s 4ms/step - loss: 0.6131 - accuracy: 0.6787 - val_loss: 0.6444 - val_accuracy: 0.5949\n",
            "Epoch 157/200\n",
            "14/14 [==============================] - 0s 4ms/step - loss: 0.6130 - accuracy: 0.6516 - val_loss: 0.6379 - val_accuracy: 0.6582\n",
            "Epoch 158/200\n",
            "14/14 [==============================] - 0s 3ms/step - loss: 0.5982 - accuracy: 0.6697 - val_loss: 0.6453 - val_accuracy: 0.6329\n",
            "Epoch 159/200\n",
            "14/14 [==============================] - 0s 3ms/step - loss: 0.6033 - accuracy: 0.6968 - val_loss: 0.6502 - val_accuracy: 0.6203\n",
            "Epoch 160/200\n",
            "14/14 [==============================] - 0s 4ms/step - loss: 0.6121 - accuracy: 0.6697 - val_loss: 0.6487 - val_accuracy: 0.6456\n",
            "Epoch 161/200\n",
            "14/14 [==============================] - 0s 3ms/step - loss: 0.6202 - accuracy: 0.6855 - val_loss: 0.6491 - val_accuracy: 0.5823\n",
            "Epoch 162/200\n",
            "14/14 [==============================] - 0s 4ms/step - loss: 0.5958 - accuracy: 0.6674 - val_loss: 0.6521 - val_accuracy: 0.6329\n",
            "Epoch 163/200\n",
            "14/14 [==============================] - 0s 4ms/step - loss: 0.5850 - accuracy: 0.6742 - val_loss: 0.6525 - val_accuracy: 0.5696\n",
            "Epoch 164/200\n",
            "14/14 [==============================] - 0s 3ms/step - loss: 0.6057 - accuracy: 0.6833 - val_loss: 0.6455 - val_accuracy: 0.6456\n",
            "Epoch 165/200\n",
            "14/14 [==============================] - 0s 3ms/step - loss: 0.6211 - accuracy: 0.6765 - val_loss: 0.6436 - val_accuracy: 0.5823\n",
            "Epoch 166/200\n",
            "14/14 [==============================] - 0s 3ms/step - loss: 0.6197 - accuracy: 0.6674 - val_loss: 0.6439 - val_accuracy: 0.6456\n",
            "Epoch 167/200\n",
            "14/14 [==============================] - 0s 4ms/step - loss: 0.6116 - accuracy: 0.6652 - val_loss: 0.6435 - val_accuracy: 0.6203\n",
            "Epoch 168/200\n",
            "14/14 [==============================] - 0s 4ms/step - loss: 0.5951 - accuracy: 0.6946 - val_loss: 0.6469 - val_accuracy: 0.6076\n",
            "Epoch 169/200\n",
            "14/14 [==============================] - 0s 4ms/step - loss: 0.6065 - accuracy: 0.6855 - val_loss: 0.6466 - val_accuracy: 0.5949\n",
            "Epoch 170/200\n",
            "14/14 [==============================] - 0s 3ms/step - loss: 0.6028 - accuracy: 0.6991 - val_loss: 0.6389 - val_accuracy: 0.6709\n",
            "Epoch 171/200\n",
            "14/14 [==============================] - 0s 3ms/step - loss: 0.5862 - accuracy: 0.7059 - val_loss: 0.6369 - val_accuracy: 0.6329\n",
            "Epoch 172/200\n",
            "14/14 [==============================] - 0s 4ms/step - loss: 0.6087 - accuracy: 0.6810 - val_loss: 0.6454 - val_accuracy: 0.5949\n",
            "Epoch 173/200\n",
            "14/14 [==============================] - 0s 4ms/step - loss: 0.6185 - accuracy: 0.6923 - val_loss: 0.6406 - val_accuracy: 0.6709\n",
            "Epoch 174/200\n",
            "14/14 [==============================] - 0s 4ms/step - loss: 0.5945 - accuracy: 0.6833 - val_loss: 0.6488 - val_accuracy: 0.6076\n",
            "Epoch 175/200\n",
            "14/14 [==============================] - 0s 4ms/step - loss: 0.5941 - accuracy: 0.6855 - val_loss: 0.6566 - val_accuracy: 0.6329\n",
            "Epoch 176/200\n",
            "14/14 [==============================] - 0s 5ms/step - loss: 0.6018 - accuracy: 0.6674 - val_loss: 0.6433 - val_accuracy: 0.5823\n",
            "Epoch 177/200\n",
            "14/14 [==============================] - 0s 3ms/step - loss: 0.5957 - accuracy: 0.6833 - val_loss: 0.6588 - val_accuracy: 0.6329\n",
            "Epoch 178/200\n",
            "14/14 [==============================] - 0s 4ms/step - loss: 0.6048 - accuracy: 0.6697 - val_loss: 0.6387 - val_accuracy: 0.5823\n",
            "Epoch 179/200\n",
            "14/14 [==============================] - 0s 4ms/step - loss: 0.5941 - accuracy: 0.6719 - val_loss: 0.6439 - val_accuracy: 0.6456\n",
            "Epoch 180/200\n",
            "14/14 [==============================] - 0s 4ms/step - loss: 0.5951 - accuracy: 0.7081 - val_loss: 0.6479 - val_accuracy: 0.5949\n",
            "Epoch 181/200\n",
            "14/14 [==============================] - 0s 3ms/step - loss: 0.5828 - accuracy: 0.6833 - val_loss: 0.6469 - val_accuracy: 0.6203\n",
            "Epoch 182/200\n",
            "14/14 [==============================] - 0s 4ms/step - loss: 0.5921 - accuracy: 0.6810 - val_loss: 0.6432 - val_accuracy: 0.5823\n",
            "Epoch 183/200\n",
            "14/14 [==============================] - 0s 4ms/step - loss: 0.6315 - accuracy: 0.6335 - val_loss: 0.6386 - val_accuracy: 0.5823\n",
            "Epoch 184/200\n",
            "14/14 [==============================] - 0s 3ms/step - loss: 0.5816 - accuracy: 0.6968 - val_loss: 0.6489 - val_accuracy: 0.6203\n",
            "Epoch 185/200\n",
            "14/14 [==============================] - 0s 5ms/step - loss: 0.6029 - accuracy: 0.6606 - val_loss: 0.6507 - val_accuracy: 0.6329\n",
            "Epoch 186/200\n",
            "14/14 [==============================] - 0s 4ms/step - loss: 0.6081 - accuracy: 0.6516 - val_loss: 0.6250 - val_accuracy: 0.6329\n",
            "Epoch 187/200\n",
            "14/14 [==============================] - 0s 3ms/step - loss: 0.5933 - accuracy: 0.6742 - val_loss: 0.6301 - val_accuracy: 0.6456\n",
            "Epoch 188/200\n",
            "14/14 [==============================] - 0s 3ms/step - loss: 0.6353 - accuracy: 0.6516 - val_loss: 0.6306 - val_accuracy: 0.5696\n",
            "Epoch 189/200\n",
            "14/14 [==============================] - 0s 4ms/step - loss: 0.6104 - accuracy: 0.6765 - val_loss: 0.6409 - val_accuracy: 0.6582\n",
            "Epoch 190/200\n",
            "14/14 [==============================] - 0s 4ms/step - loss: 0.5903 - accuracy: 0.6900 - val_loss: 0.6485 - val_accuracy: 0.6203\n",
            "Epoch 191/200\n",
            "14/14 [==============================] - 0s 4ms/step - loss: 0.6146 - accuracy: 0.6719 - val_loss: 0.6362 - val_accuracy: 0.5949\n",
            "Epoch 192/200\n",
            "14/14 [==============================] - 0s 4ms/step - loss: 0.5817 - accuracy: 0.7127 - val_loss: 0.6466 - val_accuracy: 0.6456\n",
            "Epoch 193/200\n",
            "14/14 [==============================] - 0s 4ms/step - loss: 0.5689 - accuracy: 0.6878 - val_loss: 0.6462 - val_accuracy: 0.5823\n",
            "Epoch 194/200\n",
            "14/14 [==============================] - 0s 4ms/step - loss: 0.5962 - accuracy: 0.6900 - val_loss: 0.6389 - val_accuracy: 0.6709\n",
            "Epoch 195/200\n",
            "14/14 [==============================] - 0s 3ms/step - loss: 0.5941 - accuracy: 0.6787 - val_loss: 0.6346 - val_accuracy: 0.5949\n",
            "Epoch 196/200\n",
            "14/14 [==============================] - 0s 3ms/step - loss: 0.5868 - accuracy: 0.6787 - val_loss: 0.6402 - val_accuracy: 0.6709\n",
            "Epoch 197/200\n",
            "14/14 [==============================] - 0s 3ms/step - loss: 0.5776 - accuracy: 0.7059 - val_loss: 0.6329 - val_accuracy: 0.5949\n",
            "Epoch 198/200\n",
            "14/14 [==============================] - 0s 3ms/step - loss: 0.5976 - accuracy: 0.6968 - val_loss: 0.6260 - val_accuracy: 0.6456\n",
            "Epoch 199/200\n",
            "14/14 [==============================] - 0s 4ms/step - loss: 0.5787 - accuracy: 0.6787 - val_loss: 0.6369 - val_accuracy: 0.6456\n",
            "Epoch 200/200\n",
            "14/14 [==============================] - 0s 5ms/step - loss: 0.5899 - accuracy: 0.6561 - val_loss: 0.6290 - val_accuracy: 0.5696\n"
          ],
          "name": "stdout"
        }
      ]
    },
    {
      "cell_type": "code",
      "metadata": {
        "colab": {
          "base_uri": "https://localhost:8080/",
          "height": 295
        },
        "id": "FhMt45qI-hpy",
        "outputId": "c24d540a-211d-437a-9ae9-7e7ea7ae4f6d"
      },
      "source": [
        "plt.plot(history.history['loss'])\n",
        "plt.plot(history.history['val_loss'])\n",
        "plt.title('model loss')\n",
        "plt.ylabel('loss')\n",
        "plt.xlabel('epoch')\n",
        "plt.title('Model loss')\n",
        "plt.legend(['train', 'validation'], loc='upper left')\n",
        "plt.show()"
      ],
      "execution_count": 224,
      "outputs": [
        {
          "output_type": "display_data",
          "data": {
            "image/png": "[encoded data removed]",
            "text/plain": [
              "<Figure size 432x288 with 1 Axes>"
            ]
          },
          "metadata": {
            "tags": [],
            "needs_background": "light"
          }
        }
      ]
    },
    {
      "cell_type": "code",
      "metadata": {
        "colab": {
          "base_uri": "https://localhost:8080/"
        },
        "id": "-VabM2Qs8mzR",
        "outputId": "c4a1461a-855b-44b9-ebd8-77dd920f3245"
      },
      "source": [
        "pred_dnn = model.predict(X_test)\n",
        "pred_dnn"
      ],
      "execution_count": 225,
      "outputs": [
        {
          "output_type": "execute_result",
          "data": {
            "text/plain": [
              "array([[0.65501916],\n",
              "       [0.53543323],\n",
              "       [0.65884924],\n",
              "       [0.19402787],\n",
              "       [0.52824473],\n",
              "       [0.59485734],\n",
              "       [0.5902939 ],\n",
              "       [0.3207416 ],\n",
              "       [0.10362449],\n",
              "       [0.6170496 ],\n",
              "       [0.5420699 ],\n",
              "       [0.30454507],\n",
              "       [0.59079707],\n",
              "       [0.6231198 ],\n",
              "       [0.6483991 ],\n",
              "       [0.5481458 ],\n",
              "       [0.26787406],\n",
              "       [0.15552211],\n",
              "       [0.5699917 ],\n",
              "       [0.5721501 ],\n",
              "       [0.60243565],\n",
              "       [0.5275416 ],\n",
              "       [0.6492415 ],\n",
              "       [0.6422229 ],\n",
              "       [0.64918935],\n",
              "       [0.6391629 ],\n",
              "       [0.26974964],\n",
              "       [0.52487576],\n",
              "       [0.55900085],\n",
              "       [0.6487766 ],\n",
              "       [0.69121015],\n",
              "       [0.5225197 ],\n",
              "       [0.5458429 ],\n",
              "       [0.6790397 ],\n",
              "       [0.6544025 ],\n",
              "       [0.10015538],\n",
              "       [0.5217812 ],\n",
              "       [0.20567256],\n",
              "       [0.22696567],\n",
              "       [0.612716  ],\n",
              "       [0.5367328 ],\n",
              "       [0.5882629 ],\n",
              "       [0.5300533 ],\n",
              "       [0.6469584 ],\n",
              "       [0.670072  ],\n",
              "       [0.5676094 ],\n",
              "       [0.11192247],\n",
              "       [0.61921793],\n",
              "       [0.7214421 ],\n",
              "       [0.57384795],\n",
              "       [0.57538456],\n",
              "       [0.5366584 ],\n",
              "       [0.58724236],\n",
              "       [0.68377453],\n",
              "       [0.6982962 ],\n",
              "       [0.56633544],\n",
              "       [0.43659708],\n",
              "       [0.62613845],\n",
              "       [0.56792027],\n",
              "       [0.13599682],\n",
              "       [0.653161  ],\n",
              "       [0.5828774 ],\n",
              "       [0.6217282 ],\n",
              "       [0.6749443 ],\n",
              "       [0.57141984],\n",
              "       [0.64654756],\n",
              "       [0.6877913 ],\n",
              "       [0.62574315],\n",
              "       [0.54981416],\n",
              "       [0.60223687],\n",
              "       [0.5250498 ],\n",
              "       [0.51922333],\n",
              "       [0.53296906],\n",
              "       [0.5985094 ],\n",
              "       [0.18548006],\n",
              "       [0.30039865],\n",
              "       [0.5854101 ],\n",
              "       [0.58845884],\n",
              "       [0.09377232],\n",
              "       [0.5505628 ],\n",
              "       [0.528764  ],\n",
              "       [0.5978486 ],\n",
              "       [0.6380324 ],\n",
              "       [0.06721216],\n",
              "       [0.56329066],\n",
              "       [0.5369977 ],\n",
              "       [0.6776527 ],\n",
              "       [0.5117648 ],\n",
              "       [0.5949976 ],\n",
              "       [0.56909734],\n",
              "       [0.6688256 ],\n",
              "       [0.53621906],\n",
              "       [0.61821115],\n",
              "       [0.5934284 ],\n",
              "       [0.60579354],\n",
              "       [0.01161736],\n",
              "       [0.49966976],\n",
              "       [0.6602384 ],\n",
              "       [0.64893603],\n",
              "       [0.63495505],\n",
              "       [0.41877204],\n",
              "       [0.60903734],\n",
              "       [0.6551243 ],\n",
              "       [0.5780575 ],\n",
              "       [0.6451123 ],\n",
              "       [0.5795612 ],\n",
              "       [0.57771283],\n",
              "       [0.5948999 ],\n",
              "       [0.5319243 ],\n",
              "       [0.5926912 ],\n",
              "       [0.5404963 ],\n",
              "       [0.53355104],\n",
              "       [0.30870003],\n",
              "       [0.25719315],\n",
              "       [0.58610374],\n",
              "       [0.57388896],\n",
              "       [0.2232542 ],\n",
              "       [0.605629  ],\n",
              "       [0.6529722 ],\n",
              "       [0.56768465],\n",
              "       [0.54052955],\n",
              "       [0.6775097 ],\n",
              "       [0.60153073],\n",
              "       [0.4331459 ],\n",
              "       [0.5324581 ],\n",
              "       [0.5447797 ],\n",
              "       [0.52350044],\n",
              "       [0.5506959 ],\n",
              "       [0.58047324],\n",
              "       [0.4358604 ],\n",
              "       [0.5641786 ]], dtype=float32)"
            ]
          },
          "metadata": {
            "tags": []
          },
          "execution_count": 225
        }
      ]
    },
    {
      "cell_type": "code",
      "metadata": {
        "id": "bRymO1yO9Sp8"
      },
      "source": [
        "pred_dnn = np.round(pred_dnn)"
      ],
      "execution_count": 226,
      "outputs": []
    },
    {
      "cell_type": "code",
      "metadata": {
        "colab": {
          "base_uri": "https://localhost:8080/",
          "height": 458
        },
        "id": "0rY5Ksmd8rxW",
        "outputId": "51c26cb5-dc41-4ec0-8a0c-a434fdbfa687"
      },
      "source": [
        "plt.figure(figsize=(10,7))\n",
        "sns.heatmap(confusion_matrix(Y_test, pred_dnn), annot=True, fmt='.5g')\n",
        "plt.xlabel('Actual')\n",
        "plt.ylabel('Predicted')\n",
        "plt.title('Confusion matrix cv-5 DNN')\n",
        "plt.show()"
      ],
      "execution_count": 227,
      "outputs": [
        {
          "output_type": "display_data",
          "data": {
            "image/png": "[encoded data removed]",
            "text/plain": [
              "<Figure size 720x504 with 2 Axes>"
            ]
          },
          "metadata": {
            "tags": [],
            "needs_background": "light"
          }
        }
      ]
    },
    {
      "cell_type": "code",
      "metadata": {
        "colab": {
          "base_uri": "https://localhost:8080/"
        },
        "id": "r2TfzOCbC9GV",
        "outputId": "40202a13-e832-4347-eaf3-26eb4a287073"
      },
      "source": [
        "print(classification_report(Y_test, pred_dnn))"
      ],
      "execution_count": 229,
      "outputs": [
        {
          "output_type": "stream",
          "text": [
            "              precision    recall  f1-score   support\n",
            "\n",
            "           0       0.76      0.32      0.45        59\n",
            "           1       0.62      0.92      0.74        72\n",
            "\n",
            "    accuracy                           0.65       131\n",
            "   macro avg       0.69      0.62      0.60       131\n",
            "weighted avg       0.68      0.65      0.61       131\n",
            "\n"
          ],
          "name": "stdout"
        }
      ]
    },
    {
      "cell_type": "code",
      "metadata": {
        "colab": {
          "base_uri": "https://localhost:8080/",
          "height": 312
        },
        "id": "tFN-mw5ZDIiW",
        "outputId": "bafcd05e-1e47-4048-e98d-b2c2c7ec1524"
      },
      "source": [
        "draw_roc_curve(Y_test, pred_dnn)"
      ],
      "execution_count": 230,
      "outputs": [
        {
          "output_type": "stream",
          "text": [
            "Roc auc score: 0.6193502824858756\n"
          ],
          "name": "stdout"
        },
        {
          "output_type": "display_data",
          "data": {
            "image/png": "[encoded data removed]",
            "text/plain": [
              "<Figure size 432x288 with 1 Axes>"
            ]
          },
          "metadata": {
            "tags": [],
            "needs_background": "light"
          }
        }
      ]
    }
  ]
}